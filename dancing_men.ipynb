{
  "nbformat": 4,
  "nbformat_minor": 0,
  "metadata": {
    "colab": {
      "name": "dancing_men.ipynb",
      "provenance": [],
      "collapsed_sections": [],
      "authorship_tag": "ABX9TyORoKRhoyCHYxhm4tFLA0LI",
      "include_colab_link": true
    },
    "kernelspec": {
      "name": "python3",
      "display_name": "Python 3"
    },
    "language_info": {
      "name": "python"
    }
  },
  "cells": [
    {
      "cell_type": "markdown",
      "metadata": {
        "id": "view-in-github",
        "colab_type": "text"
      },
      "source": [
        "<a href=\"https://colab.research.google.com/github/AnkeHooliganke/ml-course/blob/main/dancing_men.ipynb\" target=\"_parent\"><img src=\"https://colab.research.google.com/assets/colab-badge.svg\" alt=\"Open In Colab\"/></a>"
      ]
    },
    {
      "cell_type": "code",
      "execution_count": 796,
      "metadata": {
        "id": "FoQditNuO7FJ"
      },
      "outputs": [],
      "source": [
        "CORPORA_PATH_RU = 'C:\\\\Users\\\\anke\\\\OneDrive\\\\Документы\\\\ML\\\\made_nikolenko\\\\war_and_peace\\\\WarAndPeace.txt'\n",
        "CORPORA_PATH_ENG = 'C:\\\\Users\\\\anke\\\\OneDrive\\\\Документы\\\\ML\\\\made_nikolenko\\\\war_and_peace\\\\WarAndPeaceEng.txt'\n",
        "ABC_RU = 'абвгдеёжзийклмнопрстуфхцчшщъыьэюя '\n",
        "ABC_ENG = string.ascii_lowercase + ' '"
      ]
    },
    {
      "cell_type": "code",
      "source": [
        "import pandas as pd\n",
        "import numpy as np\n",
        "import itertools\n",
        "import string\n",
        "import random"
      ],
      "metadata": {
        "id": "1Yh1a00cQp79"
      },
      "execution_count": 74,
      "outputs": []
    },
    {
      "cell_type": "code",
      "source": [
        "war_ru = ''\n",
        "with open(CORPORA_PATH_RU, 'r', encoding='utf8') as file:\n",
        "  war_ru = file.read()\n",
        "\n",
        "war_ru[:100]"
      ],
      "metadata": {
        "colab": {
          "base_uri": "https://localhost:8080/"
        },
        "id": "AXmd75l4Q56-",
        "outputId": "9f42d604-547b-44a6-a395-b5acb6fdcedf"
      },
      "execution_count": 963,
      "outputs": [
        {
          "output_type": "execute_result",
          "data": {
            "text/plain": [
              "'Annotation\\n\\n\\n\\t\"Война и мир\" – самый известный роман Льва Николаевича Толстого, как никакое другое пр'"
            ]
          },
          "metadata": {},
          "execution_count": 963
        }
      ]
    },
    {
      "cell_type": "code",
      "source": [
        "war = war_ru.lower().translate(str.maketrans(\"\", \"\", string.punctuation + '„“–—åüöäíâçîôû…è»à«ê1234567890' + string.ascii_lowercase))\n",
        "war = war.translate(str.maketrans(\"\\n\\t\", \"  \"))\n",
        "war[:100]"
      ],
      "metadata": {
        "colab": {
          "base_uri": "https://localhost:8080/"
        },
        "id": "dOy16mP4UxMJ",
        "outputId": "f8bb75c4-4e80-43a3-8412-312c47a78645"
      },
      "execution_count": 964,
      "outputs": [
        {
          "output_type": "execute_result",
          "data": {
            "text/plain": [
              "'    война и мир  самый известный роман льва николаевича толстого как никакое другое произведение пис'"
            ]
          },
          "metadata": {},
          "execution_count": 964
        }
      ]
    },
    {
      "cell_type": "markdown",
      "source": [
        "#Базовый частотный метод по Шерлоку Холмсу"
      ],
      "metadata": {
        "id": "upA7wglo8ALY"
      }
    },
    {
      "cell_type": "code",
      "source": [
        "# посчитаем частоты символов в войне и мире\n",
        "freq_dict = {char:0 for char in ABC_RU} # в тексте, конечно, много других символов, но нас они не интересуют\n",
        "for char in war:\n",
        "  if freq_dict.get(char, -1) == -1:\n",
        "    pass\n",
        "  else:\n",
        "    freq_dict[char] += 1"
      ],
      "metadata": {
        "id": "i3qztEO2YLzj"
      },
      "execution_count": 965,
      "outputs": []
    },
    {
      "cell_type": "code",
      "source": [
        "freq_tab = pd.DataFrame(data=freq_dict.items(), columns=['char', 'rank'], index=range(len(freq_dict)))\n",
        "freq_tab = freq_tab.sort_values(by='rank', ascending=False).reset_index(drop=True)\n",
        "freq_tab.head()"
      ],
      "metadata": {
        "colab": {
          "base_uri": "https://localhost:8080/",
          "height": 206
        },
        "id": "BtnjwmFZrTAg",
        "outputId": "da5151a1-efea-433c-a083-eac005f649ae"
      },
      "execution_count": 966,
      "outputs": [
        {
          "output_type": "execute_result",
          "data": {
            "text/plain": [
              "  char    rank\n",
              "0       117327\n",
              "1    о   61282\n",
              "2    а   45209\n",
              "3    е   42519\n",
              "4    и   35838"
            ],
            "text/html": [
              "<div>\n",
              "<style scoped>\n",
              "    .dataframe tbody tr th:only-of-type {\n",
              "        vertical-align: middle;\n",
              "    }\n",
              "\n",
              "    .dataframe tbody tr th {\n",
              "        vertical-align: top;\n",
              "    }\n",
              "\n",
              "    .dataframe thead th {\n",
              "        text-align: right;\n",
              "    }\n",
              "</style>\n",
              "<table border=\"1\" class=\"dataframe\">\n",
              "  <thead>\n",
              "    <tr style=\"text-align: right;\">\n",
              "      <th></th>\n",
              "      <th>char</th>\n",
              "      <th>rank</th>\n",
              "    </tr>\n",
              "  </thead>\n",
              "  <tbody>\n",
              "    <tr>\n",
              "      <th>0</th>\n",
              "      <td></td>\n",
              "      <td>117327</td>\n",
              "    </tr>\n",
              "    <tr>\n",
              "      <th>1</th>\n",
              "      <td>о</td>\n",
              "      <td>61282</td>\n",
              "    </tr>\n",
              "    <tr>\n",
              "      <th>2</th>\n",
              "      <td>а</td>\n",
              "      <td>45209</td>\n",
              "    </tr>\n",
              "    <tr>\n",
              "      <th>3</th>\n",
              "      <td>е</td>\n",
              "      <td>42519</td>\n",
              "    </tr>\n",
              "    <tr>\n",
              "      <th>4</th>\n",
              "      <td>и</td>\n",
              "      <td>35838</td>\n",
              "    </tr>\n",
              "  </tbody>\n",
              "</table>\n",
              "</div>"
            ]
          },
          "metadata": {},
          "execution_count": 966
        }
      ]
    },
    {
      "cell_type": "code",
      "source": [
        "# частотный перевод текста\n",
        "def translate(text, freq_tab):\n",
        "  text_freq = {char: 0 for char in ABC_RU}\n",
        "  for char in text:\n",
        "    if text_freq.get(char, -1) == -1:\n",
        "      pass\n",
        "    else:\n",
        "      text_freq[char] += 1\n",
        "  text_freq_tab = pd.DataFrame(data=text_freq.items(), columns=['char', 'rank'], index=range(len(text_freq)))\n",
        "  text_freq_tab = text_freq_tab.sort_values(by='rank', ascending=False).reset_index(drop=True)\n",
        "  result = []\n",
        "  for char in text:\n",
        "    text_ind = text_freq_tab[text_freq_tab['char']==char].index.item()\n",
        "    result.append(freq_tab.iloc[text_ind]['char'])\n",
        "  return ''.join(result)"
      ],
      "metadata": {
        "id": "I1y2x43gcU0d"
      },
      "execution_count": 511,
      "outputs": []
    },
    {
      "cell_type": "code",
      "source": [
        "test_text = \"Огюстен Луи Коши - французский математик и механик, член Парижской академии наук,\\\n",
        "Лондонского королевского общества, Петербургской академии наук и других академий.\\\n",
        "Разработал фундамент математического анализа и внёс огромный вклад в анализ, алгебру,\\\n",
        "математическую физику и многие другие области математики; один из основоположников\\\n",
        "механики сплошных сред. Его имя внесено в список величайших учёных Франции,\\\n",
        "помещённый на первом этаже Эйфелевой башни.\".lower().translate(str.maketrans(\"\", \"\", string.punctuation))"
      ],
      "metadata": {
        "id": "_ELQdWSgnri9"
      },
      "execution_count": 666,
      "outputs": []
    },
    {
      "cell_type": "code",
      "source": [
        "test_text = ' '.join(test_text.split())"
      ],
      "metadata": {
        "id": "xeGPTtMquSAl"
      },
      "execution_count": 667,
      "outputs": []
    },
    {
      "cell_type": "code",
      "source": [
        "# рандомная замена символов\n",
        "translation_dict = dict(zip(ABC_RU, ''.join(random.sample(ABC_RU, len(ABC_RU)))))"
      ],
      "metadata": {
        "id": "fvOUcSSu2Duf"
      },
      "execution_count": 668,
      "outputs": []
    },
    {
      "cell_type": "code",
      "source": [
        "test_shuffled = test_text.translate(str.maketrans(translation_dict))"
      ],
      "metadata": {
        "id": "Pw8D8ptqpJB8"
      },
      "execution_count": 669,
      "outputs": []
    },
    {
      "cell_type": "code",
      "source": [
        "test_shuffled[:50]"
      ],
      "metadata": {
        "colab": {
          "base_uri": "https://localhost:8080/"
        },
        "id": "PzeRbkq7yKXk",
        "outputId": "c23df9b8-2560-495c-f86a-913f7acddb9e"
      },
      "execution_count": 670,
      "outputs": [
        {
          "output_type": "execute_result",
          "data": {
            "text/plain": [
              "'жлгкыяфмщдцмэжьцмстнфедпкэцамъныяъныцэмцмъярнфцэмю'"
            ]
          },
          "metadata": {},
          "execution_count": 670
        }
      ]
    },
    {
      "cell_type": "code",
      "source": [
        "# результат частотного перевода\n",
        "translate(test_shuffled, freq_tab)[:100] # вроде пробелы правильные, и даже буквы 'a', 'н'"
      ],
      "metadata": {
        "colab": {
          "base_uri": "https://localhost:8080/"
        },
        "id": "vf0_HX2DoX3F",
        "outputId": "d3c5a2d8-caf6-4b0b-a098-99716fe5640e"
      },
      "execution_count": 671,
      "outputs": [
        {
          "output_type": "execute_result",
          "data": {
            "text/plain": [
              "'еущлвин кдо тежо бранэдылтоя сависавот о сиьанот чкин гарошлтея атаписоо надткенпенлтеуе терекимлтеу'"
            ]
          },
          "metadata": {},
          "execution_count": 671
        }
      ]
    },
    {
      "cell_type": "markdown",
      "source": [
        "попытка покрупнее"
      ],
      "metadata": {
        "id": "oxpzornzTLHR"
      }
    },
    {
      "cell_type": "code",
      "source": [
        "karenina = 'Все счастливые семьи похожи друг на друга, каждая несчастливая семья несчастлива по-своему.\\\n",
        "Все смешалось в доме Облонских. Жена узнала, что муж был в связи с бывшею в их доме француженкою-гувернанткой, и объявила мужу, что не может жить с ним в одном доме. Положение это продолжалось уже третий день и мучительно чувствовалось и самими супругами, и всеми членами семьи, и домочадцами. Все члены семьи и домочадцы чувствовали, что нет смысла в их сожительстве и что на каждом постоялом дворе случайно сошедшиеся люди более связаны между собой, чем они, члены семьи и домочадцы Облонских. Жена не выходила из своих комнат, мужа третий день не было дома. Дети бегали по всему дому, как потерянные; англичанка поссорилась с экономкой и написала записку приятельнице, прося приискать ей новое место; повар ушел еще вчера со двора, во время самого обеда; черная кухарка и кучер просили расчета.\\\n",
        "На третий день после ссоры князь Степан Аркадьич Облонский – Стива, как его звали в свете, – в обычный час, то есть в восемь часов утра, проснулся не в спальне жены, а в своем кабинете, на сафьянном диване. Он повернул свое полное, выхоленное тело на пружинах дивана, как бы желая опять заснуть надолго, с другой стороны крепко обнял подушку и прижался к ней щекой; но вдруг вскочил, сел на диван и открыл глаза.\\\n",
        "«Да, да, как это было? – думал он, вспоминая сон. – Да, как это было? Да! Алабин давал обед в Дармштадте; нет, не в Дармштадте, а что-то американское. Да, но там Дармштадт был в Америке. Да, Алабин давал обед на стеклянных столах, да, – и столы пели: а что-то лучше, и какие-то маленькие графинчики, и они же женщины», – вспоминал он.\\\n",
        "Глаза Степана Аркадьича весело заблестели, и он задумался, улыбаясь. «Да, хорошо было, очень хорошо. Много еще что-то там было отличного, да не скажешь словами и мыслями даже наяву не выразишь». И, заметив полосу света, пробившуюся сбоку одной из суконных стор, он весело скинул ноги с дивана, отыскал ими шитые женой (подарок ко дню рождения в прошлом году), обделанные в золотистый сафьян туфли и по старой, девятилетней привычке, не вставая, потянулся рукой к тому месту, где в спальне у него висел халат. И тут он вспомнил вдруг, как и почему он спит не в спальне жены, а в кабинете; улыбка исчезла с его лица, он сморщил лоб.\\\n",
        "«Ах, ах, ах! Ааа!..» – замычал он, вспоминая все, что было. И его воображению представились опять все подробности ссоры с женою, вся безвыходность его положения и мучительнее всего собственная вина его.\\\n",
        "«Да! она не простит и не может простить. И всего ужаснее то, что виной всему я, виной я, а не виноват. В этом-то вся драма, – думал он. – Ах, ах, ах!» – приговаривал он с отчаянием, вспоминая самые тяжелые для себя впечатления из этой ссоры.\\\n",
        "Неприятнее всего была та первая минута, когда он, вернувшись из театра, веселым и довольным, с огромною грушей для жены в руке, не нашел жены в гостиной; к удивлению, не нашел ее и в кабинете и, наконец, увидал ее в спальне с несчастною, открывшею все, запиской в руке.\\\n",
        "Она, эта вечно озабоченная, и хлопотливая, и недалекая, какою он считал ее, Долли, неподвижно сидела с запиской в руке и с выражением ужаса, отчаяния и гнева смотрела на него\\\n",
        "– Что это? это? – спрашивала она, указывая на записку.\\\n",
        "И при этом воспоминании, как это часто бывает, мучало Степана Аркадьича не столько самое событие, сколько то, как он ответил на эти слова жены.\\\n",
        "С ним случилось в эту минуту то, что случается с людьми, когда они неожиданно уличены в чем-нибудь слишком постыдном. Он не сумел приготовить свое лицо к тому положению, в которое он становился пред женой после открытия его вины. Вместо того чтоб оскорбиться, отрекаться, оправдываться, просить прощения, оставаться даже равнодушным – все было бы лучше того, что он сделал! – его лицо совершенно невольно («рефлексы головного мозга»[33], – подумал Степан Аркадьич, который любил физиологию), совершенно невольно вдруг улыбнулось привычною, доброю и потому глупою улыбкой.\\\n",
        "Эту глупую улыбку он не мог простить себе. Увидав эту улыбку, Долли вздрогнула, как от физической боли, разразилась, со свойственною ей горячностью, потоком жестоких слов и выбежала из комнаты. С тех пор она не хотела видеть мужа.\\\n",
        "«Всему виной эта глупая улыбка», – думал Степан Аркадьич.'.lower().translate(str.maketrans(\"\", \"\", string.punctuation + '„“–—åüöäíâçîôû…è»à«ê1234567890' + string.ascii_lowercase))"
      ],
      "metadata": {
        "id": "IehU_r8dzqv8"
      },
      "execution_count": 706,
      "outputs": []
    },
    {
      "cell_type": "code",
      "source": [
        "karenina_shuf = karenina.translate(str.maketrans(translation_dict))\n",
        "translate(karenina_shuf, freq_tab)[:100]"
      ],
      "metadata": {
        "colab": {
          "base_uri": "https://localhost:8080/"
        },
        "id": "4nMW9UTo0fQw",
        "outputId": "fbaeb858-bafa-4fea-8066-1137859271e0"
      },
      "execution_count": 707,
      "outputs": [
        {
          "output_type": "execute_result",
          "data": {
            "text/plain": [
              "'вте тгатслнвяе тедын похочн ркуб иа ркуба мачраь иетгатслнваь тедыь иетгатслнва потвоедувте тдешалот'"
            ]
          },
          "metadata": {},
          "execution_count": 707
        }
      ]
    },
    {
      "cell_type": "markdown",
      "source": [
        "#Биграммы"
      ],
      "metadata": {
        "id": "iS-RKngz8g0d"
      }
    },
    {
      "cell_type": "code",
      "source": [
        "# подсчитаем частоты биграмм\n",
        "bigrams = itertools.product(ABC_RU, repeat=2)\n",
        "freq_big = {bigram: 0 for bigram in bigrams}\n",
        "for i in range(len(war) - 1):\n",
        "  bigram = tuple(war[i: i + 2])\n",
        "  if freq_big.get(bigram, -1) == -1:\n",
        "    pass\n",
        "  else:\n",
        "    freq_big[bigram] += 1"
      ],
      "metadata": {
        "id": "D78VJATv8Oh8"
      },
      "execution_count": null,
      "outputs": []
    },
    {
      "cell_type": "code",
      "source": [
        "freq_tab_big = pd.DataFrame(data=freq_big.items(), columns=['bigram', 'rank'], index=range(len(freq_big)))\n",
        "freq_tab_big = freq_tab_big.sort_values(by='rank', ascending=False).reset_index(drop=True)\n",
        "freq_tab_big.drop(index=0, inplace=True) # здесь была биграмма из двух пробелов как артефакт очистки текста\n",
        "freq_tab_big.reset_index(drop=True, inplace=True)\n",
        "freq_tab_big.head()"
      ],
      "metadata": {
        "colab": {
          "base_uri": "https://localhost:8080/",
          "height": 206
        },
        "id": "HTBKrPDF_nx4",
        "outputId": "e13f44cb-aad4-43f7-82f4-ea030a7b48fd"
      },
      "execution_count": 968,
      "outputs": [
        {
          "output_type": "execute_result",
          "data": {
            "text/plain": [
              "   bigram   rank\n",
              "0  (о,  )  13316\n",
              "1  (и,  )  11398\n",
              "2  (а,  )  10595\n",
              "3  (е,  )  10040\n",
              "4  ( , с)   9863"
            ],
            "text/html": [
              "<div>\n",
              "<style scoped>\n",
              "    .dataframe tbody tr th:only-of-type {\n",
              "        vertical-align: middle;\n",
              "    }\n",
              "\n",
              "    .dataframe tbody tr th {\n",
              "        vertical-align: top;\n",
              "    }\n",
              "\n",
              "    .dataframe thead th {\n",
              "        text-align: right;\n",
              "    }\n",
              "</style>\n",
              "<table border=\"1\" class=\"dataframe\">\n",
              "  <thead>\n",
              "    <tr style=\"text-align: right;\">\n",
              "      <th></th>\n",
              "      <th>bigram</th>\n",
              "      <th>rank</th>\n",
              "    </tr>\n",
              "  </thead>\n",
              "  <tbody>\n",
              "    <tr>\n",
              "      <th>0</th>\n",
              "      <td>(о,  )</td>\n",
              "      <td>13316</td>\n",
              "    </tr>\n",
              "    <tr>\n",
              "      <th>1</th>\n",
              "      <td>(и,  )</td>\n",
              "      <td>11398</td>\n",
              "    </tr>\n",
              "    <tr>\n",
              "      <th>2</th>\n",
              "      <td>(а,  )</td>\n",
              "      <td>10595</td>\n",
              "    </tr>\n",
              "    <tr>\n",
              "      <th>3</th>\n",
              "      <td>(е,  )</td>\n",
              "      <td>10040</td>\n",
              "    </tr>\n",
              "    <tr>\n",
              "      <th>4</th>\n",
              "      <td>( , с)</td>\n",
              "      <td>9863</td>\n",
              "    </tr>\n",
              "  </tbody>\n",
              "</table>\n",
              "</div>"
            ]
          },
          "metadata": {},
          "execution_count": 968
        }
      ]
    },
    {
      "cell_type": "code",
      "source": [
        "# частотный перевод по биграммам: сортируем в порядке убывания частот, в перевод подставляем соответствующие порядку биграммы\n",
        "def translate_big(text, freq_big):\n",
        "  bigrams = itertools.product(ABC_RU, repeat=2)\n",
        "  freq_text = {}\n",
        "  for i in range(len(text) - 1):\n",
        "    bigram = tuple(text[i: i + 2])\n",
        "    if freq_text.get(bigram, -1) == -1:\n",
        "      freq_text[bigram] = 1\n",
        "    else:\n",
        "      freq_text[bigram] += 1\n",
        "  text_freq_tab = pd.DataFrame(data=freq_text.items(), columns=['bigram', 'rank'], index=range(len(freq_text)))\n",
        "  text_freq_tab = text_freq_tab.sort_values(by='rank', ascending=False).reset_index(drop=True)\n",
        "\n",
        "  result = []\n",
        "  for i in range(0, len(text) - 1, 2):\n",
        "    bigram = tuple(text[i: i + 2])\n",
        "    text_ind = text_freq_tab[text_freq_tab['bigram']==bigram].index.item()\n",
        "    a, b = freq_big.iloc[text_ind]['bigram']\n",
        "    result.append(a)\n",
        "    result.append(b)\n",
        "  return ''.join(result), text_freq_tab"
      ],
      "metadata": {
        "id": "vsnQdM_o_3Mc"
      },
      "execution_count": 527,
      "outputs": []
    },
    {
      "cell_type": "code",
      "source": [
        "result, text_freq_tab = translate_big(karenina_shuf, freq_tab_big) # А точно должно работать на только частотах биграмм? они ведь не гарантируют однозначного декодирования букв...\n",
        "result[:100]"
      ],
      "metadata": {
        "colab": {
          "base_uri": "https://localhost:8080/"
        },
        "id": "2fO1VoLDBClC",
        "outputId": "830e9bec-1d01-46db-c204-6490ac60076f"
      },
      "execution_count": 537,
      "outputs": [
        {
          "output_type": "execute_result",
          "data": {
            "text/plain": [
              "'нии  ясьрыдаицо т шетоиюкн пылзн на ылзна козьть нчттаь рерост тшаст к ясьрыдаа поиепе ении д пьнеер'"
            ]
          },
          "metadata": {},
          "execution_count": 537
        }
      ]
    },
    {
      "cell_type": "code",
      "source": [
        "text_freq_tab.join(freq_tab_big, rsuffix='big').head(7) # если заменять биграммы, то букве 'ц' будет соответствовать и 'о', и пробел"
      ],
      "metadata": {
        "colab": {
          "base_uri": "https://localhost:8080/",
          "height": 268
        },
        "id": "0n8T90F2Vbq6",
        "outputId": "8e5e3639-fe07-4bb4-edc3-7dc70e50e479"
      },
      "execution_count": 538,
      "outputs": [
        {
          "output_type": "execute_result",
          "data": {
            "text/plain": [
              "   bigram  rank bigrambig  rankbig\n",
              "0  (ц, ч)    92    (о,  )    13316\n",
              "1  (а, ц)    82    (и,  )    11398\n",
              "2  (ь, ц)    80    (а,  )    10595\n",
              "3  (й, ц)    80    (е,  )    10040\n",
              "4  (ц, ш)    78    ( , с)     9863\n",
              "5  (и, ц)    71    ( , п)     9768\n",
              "6  (ц, й)    54    ( , в)     9612"
            ],
            "text/html": [
              "<div>\n",
              "<style scoped>\n",
              "    .dataframe tbody tr th:only-of-type {\n",
              "        vertical-align: middle;\n",
              "    }\n",
              "\n",
              "    .dataframe tbody tr th {\n",
              "        vertical-align: top;\n",
              "    }\n",
              "\n",
              "    .dataframe thead th {\n",
              "        text-align: right;\n",
              "    }\n",
              "</style>\n",
              "<table border=\"1\" class=\"dataframe\">\n",
              "  <thead>\n",
              "    <tr style=\"text-align: right;\">\n",
              "      <th></th>\n",
              "      <th>bigram</th>\n",
              "      <th>rank</th>\n",
              "      <th>bigrambig</th>\n",
              "      <th>rankbig</th>\n",
              "    </tr>\n",
              "  </thead>\n",
              "  <tbody>\n",
              "    <tr>\n",
              "      <th>0</th>\n",
              "      <td>(ц, ч)</td>\n",
              "      <td>92</td>\n",
              "      <td>(о,  )</td>\n",
              "      <td>13316</td>\n",
              "    </tr>\n",
              "    <tr>\n",
              "      <th>1</th>\n",
              "      <td>(а, ц)</td>\n",
              "      <td>82</td>\n",
              "      <td>(и,  )</td>\n",
              "      <td>11398</td>\n",
              "    </tr>\n",
              "    <tr>\n",
              "      <th>2</th>\n",
              "      <td>(ь, ц)</td>\n",
              "      <td>80</td>\n",
              "      <td>(а,  )</td>\n",
              "      <td>10595</td>\n",
              "    </tr>\n",
              "    <tr>\n",
              "      <th>3</th>\n",
              "      <td>(й, ц)</td>\n",
              "      <td>80</td>\n",
              "      <td>(е,  )</td>\n",
              "      <td>10040</td>\n",
              "    </tr>\n",
              "    <tr>\n",
              "      <th>4</th>\n",
              "      <td>(ц, ш)</td>\n",
              "      <td>78</td>\n",
              "      <td>( , с)</td>\n",
              "      <td>9863</td>\n",
              "    </tr>\n",
              "    <tr>\n",
              "      <th>5</th>\n",
              "      <td>(и, ц)</td>\n",
              "      <td>71</td>\n",
              "      <td>( , п)</td>\n",
              "      <td>9768</td>\n",
              "    </tr>\n",
              "    <tr>\n",
              "      <th>6</th>\n",
              "      <td>(ц, й)</td>\n",
              "      <td>54</td>\n",
              "      <td>( , в)</td>\n",
              "      <td>9612</td>\n",
              "    </tr>\n",
              "  </tbody>\n",
              "</table>\n",
              "</div>"
            ]
          },
          "metadata": {},
          "execution_count": 538
        }
      ]
    },
    {
      "cell_type": "markdown",
      "source": [
        "можно попробовать улучшить декодирование и переводить буквы, а не биграммы, но с учетом частоты встречаемости каждой буквы по биграммам(например, для биграмм в тесте, начинающихся с 'ц', найдем, какие биграммы из соответствующих им по частоте встречаемости начинаются с 'o', и сложим вероятности получить эти биграммы)\n",
        "\n",
        "Здесь, правда, тоже не будет никакой однозначности"
      ],
      "metadata": {
        "id": "9bGW-3nQ_D9t"
      }
    },
    {
      "cell_type": "code",
      "source": [
        "bigrams_tab = text_freq_tab.join(freq_tab_big, rsuffix='big')\n",
        "bigrams_tab.drop(columns=['rank'], inplace=True)\n",
        "bigrams_tab['rankbig'] /= bigrams_tab['rankbig'].sum()\n",
        "bigrams_tab['bigram_1'] = bigrams_tab['bigram'].apply(lambda x: x[0])\n",
        "bigrams_tab['bigram_2'] = bigrams_tab['bigram'].apply(lambda x: x[1])\n",
        "bigrams_tab['bigram_war_1'] = bigrams_tab['bigrambig'].apply(lambda x: x[0])\n",
        "bigrams_tab['bigram_war_2'] = bigrams_tab['bigrambig'].apply(lambda x: x[1])\n",
        "bigrams_tab.drop(columns=['bigram', 'bigrambig'], inplace=True)\n",
        "bigrams_tab.head()"
      ],
      "metadata": {
        "colab": {
          "base_uri": "https://localhost:8080/",
          "height": 206
        },
        "id": "kE8WXfaZYjO_",
        "outputId": "a56e5b70-b61d-4ab4-a2be-97095c0ed7ff"
      },
      "execution_count": 486,
      "outputs": [
        {
          "output_type": "execute_result",
          "data": {
            "text/plain": [
              "    rankbig bigram_1 bigram_2 bigram_war_1 bigram_war_2\n",
              "0  0.020849        ц        ч            о             \n",
              "1  0.017848        а        ц            и             \n",
              "2  0.016584        ь        ц            а             \n",
              "3  0.015715        й        ц            е             \n",
              "4  0.015444        ц        ш                         с"
            ],
            "text/html": [
              "<div>\n",
              "<style scoped>\n",
              "    .dataframe tbody tr th:only-of-type {\n",
              "        vertical-align: middle;\n",
              "    }\n",
              "\n",
              "    .dataframe tbody tr th {\n",
              "        vertical-align: top;\n",
              "    }\n",
              "\n",
              "    .dataframe thead th {\n",
              "        text-align: right;\n",
              "    }\n",
              "</style>\n",
              "<table border=\"1\" class=\"dataframe\">\n",
              "  <thead>\n",
              "    <tr style=\"text-align: right;\">\n",
              "      <th></th>\n",
              "      <th>rankbig</th>\n",
              "      <th>bigram_1</th>\n",
              "      <th>bigram_2</th>\n",
              "      <th>bigram_war_1</th>\n",
              "      <th>bigram_war_2</th>\n",
              "    </tr>\n",
              "  </thead>\n",
              "  <tbody>\n",
              "    <tr>\n",
              "      <th>0</th>\n",
              "      <td>0.020849</td>\n",
              "      <td>ц</td>\n",
              "      <td>ч</td>\n",
              "      <td>о</td>\n",
              "      <td></td>\n",
              "    </tr>\n",
              "    <tr>\n",
              "      <th>1</th>\n",
              "      <td>0.017848</td>\n",
              "      <td>а</td>\n",
              "      <td>ц</td>\n",
              "      <td>и</td>\n",
              "      <td></td>\n",
              "    </tr>\n",
              "    <tr>\n",
              "      <th>2</th>\n",
              "      <td>0.016584</td>\n",
              "      <td>ь</td>\n",
              "      <td>ц</td>\n",
              "      <td>а</td>\n",
              "      <td></td>\n",
              "    </tr>\n",
              "    <tr>\n",
              "      <th>3</th>\n",
              "      <td>0.015715</td>\n",
              "      <td>й</td>\n",
              "      <td>ц</td>\n",
              "      <td>е</td>\n",
              "      <td></td>\n",
              "    </tr>\n",
              "    <tr>\n",
              "      <th>4</th>\n",
              "      <td>0.015444</td>\n",
              "      <td>ц</td>\n",
              "      <td>ш</td>\n",
              "      <td></td>\n",
              "      <td>с</td>\n",
              "    </tr>\n",
              "  </tbody>\n",
              "</table>\n",
              "</div>"
            ]
          },
          "metadata": {},
          "execution_count": 486
        }
      ]
    },
    {
      "cell_type": "code",
      "source": [
        "translation_tab2 = pd.DataFrame(0., index=list(ABC_RU), columns=list(ABC_RU))\n",
        "for char in bigrams_tab['bigram_1']:\n",
        "  for subst in bigrams_tab[bigrams_tab['bigram_1']==char]['bigram_war_1']:\n",
        "   translation_tab2[char][subst] += bigrams_tab[(bigrams_tab['bigram_1']==char) & (bigrams_tab['bigram_war_1']==subst)]['rankbig'].sum()\n",
        "\n",
        "for char in bigrams_tab['bigram_2']:\n",
        "  for subst in bigrams_tab[bigrams_tab['bigram_2']==char]['bigram_war_2']:\n",
        "   translation_tab2[char][subst] += bigrams_tab[(bigrams_tab['bigram_2']==char) & (bigrams_tab['bigram_war_2']==subst)]['rankbig'].sum()"
      ],
      "metadata": {
        "id": "9CXFYjJ5nm21"
      },
      "execution_count": 487,
      "outputs": []
    },
    {
      "cell_type": "code",
      "source": [
        "translation_tab2.head()"
      ],
      "metadata": {
        "colab": {
          "base_uri": "https://localhost:8080/",
          "height": 236
        },
        "id": "CyPE7hgnJ-GL",
        "outputId": "83f0c31e-eb45-4676-bbe9-d11f47beea4d"
      },
      "execution_count": 488,
      "outputs": [
        {
          "output_type": "execute_result",
          "data": {
            "text/plain": [
              "          а         б         в         г    д    е         ё    ж         з  \\\n",
              "а  0.448238  0.007783  0.000000  0.027875  0.0  0.0  0.046756  0.0  0.040333   \n",
              "б  0.019178  0.007634  0.007334  0.064505  0.0  0.0  0.000000  0.0  0.000000   \n",
              "в  0.312218  0.013789  0.000000  0.032693  0.0  0.0  0.091872  0.0  0.000000   \n",
              "г  0.240534  0.016255  0.003365  0.013531  0.0  0.0  0.070345  0.0  0.012661   \n",
              "д  0.108959  0.028799  0.012048  0.003015  0.0  0.0  0.026977  0.0  0.000000   \n",
              "\n",
              "          и  ...         ч         ш         щ         ъ         ы         ь  \\\n",
              "а  0.013003  ...  0.000000  0.090310  0.008112  0.000000  0.000000  2.855693   \n",
              "б  0.026402  ...  0.071317  0.000000  0.000000  0.003884  0.000000  0.000000   \n",
              "в  0.075568  ...  0.145795  0.043523  0.000000  0.049045  0.000000  0.036011   \n",
              "г  0.019918  ...  0.000000  0.016022  0.000000  0.000000  0.003026  0.000000   \n",
              "д  0.000000  ...  0.080714  0.031474  0.000000  0.000000  0.014865  0.238824   \n",
              "\n",
              "          э         ю         я            \n",
              "а  0.000000  0.066225  0.128829  0.041187  \n",
              "б  0.000000  0.000000  0.000000  0.000000  \n",
              "в  0.000000  0.071599  0.010342  0.000000  \n",
              "г  0.009316  0.123053  0.059585  0.000000  \n",
              "д  0.008879  0.000000  0.000000  0.061827  \n",
              "\n",
              "[5 rows x 34 columns]"
            ],
            "text/html": [
              "<div>\n",
              "<style scoped>\n",
              "    .dataframe tbody tr th:only-of-type {\n",
              "        vertical-align: middle;\n",
              "    }\n",
              "\n",
              "    .dataframe tbody tr th {\n",
              "        vertical-align: top;\n",
              "    }\n",
              "\n",
              "    .dataframe thead th {\n",
              "        text-align: right;\n",
              "    }\n",
              "</style>\n",
              "<table border=\"1\" class=\"dataframe\">\n",
              "  <thead>\n",
              "    <tr style=\"text-align: right;\">\n",
              "      <th></th>\n",
              "      <th>а</th>\n",
              "      <th>б</th>\n",
              "      <th>в</th>\n",
              "      <th>г</th>\n",
              "      <th>д</th>\n",
              "      <th>е</th>\n",
              "      <th>ё</th>\n",
              "      <th>ж</th>\n",
              "      <th>з</th>\n",
              "      <th>и</th>\n",
              "      <th>...</th>\n",
              "      <th>ч</th>\n",
              "      <th>ш</th>\n",
              "      <th>щ</th>\n",
              "      <th>ъ</th>\n",
              "      <th>ы</th>\n",
              "      <th>ь</th>\n",
              "      <th>э</th>\n",
              "      <th>ю</th>\n",
              "      <th>я</th>\n",
              "      <th></th>\n",
              "    </tr>\n",
              "  </thead>\n",
              "  <tbody>\n",
              "    <tr>\n",
              "      <th>а</th>\n",
              "      <td>0.448238</td>\n",
              "      <td>0.007783</td>\n",
              "      <td>0.000000</td>\n",
              "      <td>0.027875</td>\n",
              "      <td>0.0</td>\n",
              "      <td>0.0</td>\n",
              "      <td>0.046756</td>\n",
              "      <td>0.0</td>\n",
              "      <td>0.040333</td>\n",
              "      <td>0.013003</td>\n",
              "      <td>...</td>\n",
              "      <td>0.000000</td>\n",
              "      <td>0.090310</td>\n",
              "      <td>0.008112</td>\n",
              "      <td>0.000000</td>\n",
              "      <td>0.000000</td>\n",
              "      <td>2.855693</td>\n",
              "      <td>0.000000</td>\n",
              "      <td>0.066225</td>\n",
              "      <td>0.128829</td>\n",
              "      <td>0.041187</td>\n",
              "    </tr>\n",
              "    <tr>\n",
              "      <th>б</th>\n",
              "      <td>0.019178</td>\n",
              "      <td>0.007634</td>\n",
              "      <td>0.007334</td>\n",
              "      <td>0.064505</td>\n",
              "      <td>0.0</td>\n",
              "      <td>0.0</td>\n",
              "      <td>0.000000</td>\n",
              "      <td>0.0</td>\n",
              "      <td>0.000000</td>\n",
              "      <td>0.026402</td>\n",
              "      <td>...</td>\n",
              "      <td>0.071317</td>\n",
              "      <td>0.000000</td>\n",
              "      <td>0.000000</td>\n",
              "      <td>0.003884</td>\n",
              "      <td>0.000000</td>\n",
              "      <td>0.000000</td>\n",
              "      <td>0.000000</td>\n",
              "      <td>0.000000</td>\n",
              "      <td>0.000000</td>\n",
              "      <td>0.000000</td>\n",
              "    </tr>\n",
              "    <tr>\n",
              "      <th>в</th>\n",
              "      <td>0.312218</td>\n",
              "      <td>0.013789</td>\n",
              "      <td>0.000000</td>\n",
              "      <td>0.032693</td>\n",
              "      <td>0.0</td>\n",
              "      <td>0.0</td>\n",
              "      <td>0.091872</td>\n",
              "      <td>0.0</td>\n",
              "      <td>0.000000</td>\n",
              "      <td>0.075568</td>\n",
              "      <td>...</td>\n",
              "      <td>0.145795</td>\n",
              "      <td>0.043523</td>\n",
              "      <td>0.000000</td>\n",
              "      <td>0.049045</td>\n",
              "      <td>0.000000</td>\n",
              "      <td>0.036011</td>\n",
              "      <td>0.000000</td>\n",
              "      <td>0.071599</td>\n",
              "      <td>0.010342</td>\n",
              "      <td>0.000000</td>\n",
              "    </tr>\n",
              "    <tr>\n",
              "      <th>г</th>\n",
              "      <td>0.240534</td>\n",
              "      <td>0.016255</td>\n",
              "      <td>0.003365</td>\n",
              "      <td>0.013531</td>\n",
              "      <td>0.0</td>\n",
              "      <td>0.0</td>\n",
              "      <td>0.070345</td>\n",
              "      <td>0.0</td>\n",
              "      <td>0.012661</td>\n",
              "      <td>0.019918</td>\n",
              "      <td>...</td>\n",
              "      <td>0.000000</td>\n",
              "      <td>0.016022</td>\n",
              "      <td>0.000000</td>\n",
              "      <td>0.000000</td>\n",
              "      <td>0.003026</td>\n",
              "      <td>0.000000</td>\n",
              "      <td>0.009316</td>\n",
              "      <td>0.123053</td>\n",
              "      <td>0.059585</td>\n",
              "      <td>0.000000</td>\n",
              "    </tr>\n",
              "    <tr>\n",
              "      <th>д</th>\n",
              "      <td>0.108959</td>\n",
              "      <td>0.028799</td>\n",
              "      <td>0.012048</td>\n",
              "      <td>0.003015</td>\n",
              "      <td>0.0</td>\n",
              "      <td>0.0</td>\n",
              "      <td>0.026977</td>\n",
              "      <td>0.0</td>\n",
              "      <td>0.000000</td>\n",
              "      <td>0.000000</td>\n",
              "      <td>...</td>\n",
              "      <td>0.080714</td>\n",
              "      <td>0.031474</td>\n",
              "      <td>0.000000</td>\n",
              "      <td>0.000000</td>\n",
              "      <td>0.014865</td>\n",
              "      <td>0.238824</td>\n",
              "      <td>0.008879</td>\n",
              "      <td>0.000000</td>\n",
              "      <td>0.000000</td>\n",
              "      <td>0.061827</td>\n",
              "    </tr>\n",
              "  </tbody>\n",
              "</table>\n",
              "<p>5 rows × 34 columns</p>\n",
              "</div>"
            ]
          },
          "metadata": {},
          "execution_count": 488
        }
      ]
    },
    {
      "cell_type": "code",
      "source": [
        "trans_dict = dict(translation_tab2.idxmax())"
      ],
      "metadata": {
        "id": "CTc47DJxe_2J"
      },
      "execution_count": 493,
      "outputs": []
    },
    {
      "cell_type": "code",
      "source": [
        "karenina_shuf.translate(str.maketrans(trans_dict))  # чтобы была однозначность, можно с помощью этих таблиц придумать какой-нибудь алгоритм,\n",
        "                                                    # который будет итеративно менять перевод, но, видимо, это и имелось в виду в 3 пункте"
      ],
      "metadata": {
        "colab": {
          "base_uri": "https://localhost:8080/"
        },
        "id": "tLS-n2H3hJXF",
        "outputId": "cd25544d-437b-414e-81b3-81c23111674a"
      },
      "execution_count": 494,
      "outputs": [
        {
          "output_type": "execute_result",
          "data": {
            "text/plain": [
              "' ии ииаиие  аи ии е  оеней   ллу оа  ллуа вай а  оиииаиие  а  ии е  оиииаиие  а оеи еи л ии и идаееие    е и е ееоив н йиоа лсоаеа иие  лй  ае   и  с  и  а дио    н  е и хлаозлйиовеоул илоаоивек   е л   еа  лйл иие ои  ейии й ие и о     е ое   е и оееейио и сие оле еейаееие лйи илии к  иое    ли ииееое ил ии е аееие   иа     илоллуа      ии   иеиоа   ии е     е еиа за    ии иеиоа ии е     е еиа за ил ии е ае  иие оии и аиеа    н ией ииееии и   иие оа вай е  оеиие ее    ели иелиакое иеди д ии  ео    ееии и  саоа  ий л ие ек ии  ео  иеиоа ии е     е еиа за е ееоив н йиоа ои  ане  еа  с и е н ве оаи  лйа илии к  иое ои  аее  е а  ии   иуае  ое  ии л  е л вав оеиил ооаи аоуе иаова оеииел еаие и свеое век   оао иаеа сао ивл ол  ииеео зи олеи  ол  иваие ик ое еи  ииие ое ал лдие ици  иила ие   ела  е  ли   иа еуе е и а иилоа  влналва   влиил олеи е  лаииииаоа илии к  иое оеиеи ииела во се иииоао алва е и е ееоив к  ии  а вав иуе с ае    и иии    е аиоак иаи ие ииие    еии е иаие  лила олеиолеи  ои   иоаееои йиоа а   и еи  ва  оиии оа иахе оое     аои ео ое илоле и еи оееоеи  анееиооеи ииее оа оллй оан    аоа вав  а йиеа  ео ие саиолие оа ееуе и  ллуек ииелеоа влиове е о е ое лдвл   ол йаеи  в оик цивек ое   ллу  ивеи е иие оа    ао   еивлае уеаса а  а вав сие  аее   л ае ео  иое  оа  иео   а вав сие  аее  а аеа  о  а ае е и     ал диа ии оии ои    ал диа ии а ииеие а ил ваоивеи  а ое иа   ал диа и  ае   а ил ви  а аеа  о  а ае е и  оа иииве ооан ииееан  а    ииееа оие  а ииеие елиди   вав иие  аеиоев и улах ои в    ео  йи йиоц оа   иое  оае еоуеаса иииоаоа алва е иа  иииее са еиииие    ео са л аеи  леа а ие  а неледе  аее еииое неледе  оеуе ици ииеие иа   аее еие иоеуе  а ои ивайиде иее а      аие     айи оа  л ои  алас де   са ии   оеееил и ииа оле   длои  и евл е оек  с илвеооан ииел ео  иииее ив оле оеу  и    аоа еиаивае     д иаи йиоек ое алев ве  оо лей ио     оледее  уе л е  иеаооаи   сеееи ииак иахе о илхе    ое ииалек  и  и еииоик ол  аиви ои  ииа а  оеи олеи  ллвек в ие л  ииил у и   иоаееои л оиуе   иие наеаи   или ео  иое о е   ллу вав   оеии л ео ио и ои   иоаееои йиоа а   ва  оиии леа ва  ииисеа и иуе е за ео и елц е ее ан ан ан ааа  са аиае ео  иое  оа   ии иие  аее   иуе  ее лайио о оли ииа  е ие ео ие  ии ое ле оеии  ииела и йиоео  и   ис ане оеиие иуе оееейио      ли ииееоии  ииуе ие ии иооа    оа иуе а еоа ои олеии и   ои  ейии олеии ие    ииуе лйаиоии ие иие   оек  ии л     оек   а ои   ое аи   сие ие  и   ла а   л ае ео  ан ан ан  ол уе ал  ае ео и еииа о и   иое  оа  иа аи и йиеаи  е  ии    оииаиеио    с сиек ииелаоиол  иоии  ииуе  аеа иа оил а    олиа веу а ео  илол д ие  с ииаила  иииеа     е еееоа  и еуле оео уллдик  е  йиоа   ллви ои оадие йиоа   уеии оек в л   еио о ои оадие ии     ва  оиии   оавеоиз л   ае ии   иоаееои и оиииаииоео еивла дио  ии сао ивек   ллвиеоа сиа  ииое еса еииооа    нееоеие  а    ои аеива  вавео ео ии иае ии  еее  оиое   йое и  иеа и сао ивек   ллви   и  алайио и  лйаиа еииа о     уои а и еилиеа оа оиуе иие сие сие  иолад  аеа еоа лваса а  оа сао ивл  ол  сие   еиое  оао   вав сие иаиие  а аии  лиаее иииоаоа алва е иа ои ииеееве иа еи ие аи и ивеееве ие вав ео еи ии е оа си  иее а йиоаи о   иели ееие   сил   олил ие иие иелиаиии  и ео е   веу а ео  оией  аоое ле ииоа   ии о  л е ие две  оеииа ое  ео ои ил ие ол уеие  ие и еи е зе в ие л оееейио о   веиелеи ео ииаое  еи  оли  йиоек оеиеи еивлаи   иуе   оа   ииие иеуе иие  еивел  иеи  еиливаиеи  еола  а аиеи  олеи ие олецио   еииа аиеи   айи ла ое лдоа    ии  аее  а елиди иеуе иие ео и иеае  иуе е зе ие илдиоое ои еееое лихеивиа уеее оеуе  есуа  ое л ае иииоао алва е и веиелак ео  е х с еееу о ие илдиоое ои еееое   ллу леа олееие ол  аиоео  е лео   оеие л уелоео леа вексил уелоло леа вл ео ои  еу олеии ие ии и л   а  сил леа вл  еее   с леуолеа вав еи х с ииивек  ее  ласлас еаие ие и екии иооео ик уел иоеииео оеиеве  йиииев н иее     а ийаеа  с ве оаиа и иин оел еоа ои неииеа    иие  лйа ии л   оек сиа уелоа  леа ва   л ае иииоао алва е и'"
            ]
          },
          "metadata": {},
          "execution_count": 494
        }
      ]
    },
    {
      "cell_type": "markdown",
      "source": [
        "#MCMC"
      ],
      "metadata": {
        "id": "ht-e14ABOctw"
      }
    },
    {
      "cell_type": "markdown",
      "source": [
        "0. подсчитаем частоты перехода от одной биграммы к другой для всех пар биграмм\n",
        "1. возьмем случайный перевод символов\n",
        "2. переведем сообщение, посчитаем правдоподобие перевода с помощью таблицы частот биграмм\n",
        "3. поменяем местами два случайных перевода символов\n",
        "4. посчитаем новый перевод и правдоподобие\n",
        "5. пусть $p = \\frac{NewLikelihood}{OldLikelihood}$,\n",
        "\n",
        "если новое правдоподобие больше старого, т.е $p>1$, обновим таблицу перевода, go to 3\n",
        "\n",
        "  иначе обновим таблицу перевода и go to 3 с вероятностью $p$ "
      ],
      "metadata": {
        "id": "dyWoJ9XTVkzo"
      }
    },
    {
      "cell_type": "code",
      "source": [
        "bigrams = list(itertools.product(list(ABC_RU), repeat=2))\n",
        "bigrams_next = pd.DataFrame(0., index=bigrams, columns=bigrams)\n",
        "for i in range(len(war) - 4):\n",
        "  curr = tuple(war[i: i + 2])\n",
        "  next = tuple(war[i + 2: i + 4])\n",
        "  if curr not in bigrams_next.index or next not in bigrams_next.columns:\n",
        "    continue\n",
        "  bigrams_next[curr][next] += 1\n",
        "bigrams_next.head()"
      ],
      "metadata": {
        "id": "_xV0LGJTPkfA"
      },
      "execution_count": null,
      "outputs": []
    },
    {
      "cell_type": "code",
      "source": [
        "bigrams_next[(' ', ' ')] = 0 # такие биграммы могут встречаться в тексте, но нам мешают, зануляем\n",
        "bigrams_next.loc[[(' ', ' ')]] = 0\n",
        "bigrams_next.tail()"
      ],
      "metadata": {
        "id": "6q0Fd38fZoSC"
      },
      "execution_count": null,
      "outputs": []
    },
    {
      "cell_type": "code",
      "source": [
        "sums = bigrams_next.sum(axis=0)\n",
        "sums"
      ],
      "metadata": {
        "id": "zJSZKoTKXnLT"
      },
      "execution_count": null,
      "outputs": []
    },
    {
      "cell_type": "code",
      "source": [
        "bigrams_next /= sums # читать по столбцам\n",
        "bigrams_next.fillna(0, inplace=True)\n",
        "bigrams_next.head()"
      ],
      "metadata": {
        "colab": {
          "base_uri": "https://localhost:8080/",
          "height": 236
        },
        "id": "aZu47uUBbO2x",
        "outputId": "a013a925-aa6c-4f19-bfd8-b2f1c7909db8"
      },
      "execution_count": 972,
      "outputs": [
        {
          "output_type": "execute_result",
          "data": {
            "text/plain": [
              "          (а, а)    (а, б)    (а, в)  (а, г)    (а, д)  (а, е)  (а, ё)  \\\n",
              "(а, а)  0.222222  0.000000  0.000000     0.0  0.000000     0.0     0.0   \n",
              "(а, б)  0.000000  0.000000  0.000000     0.0  0.000000     0.0     0.0   \n",
              "(а, в)  0.000000  0.033175  0.002284     0.0  0.007446     0.0     0.0   \n",
              "(а, г)  0.000000  0.000000  0.000000     0.0  0.000000     0.0     0.0   \n",
              "(а, д)  0.000000  0.000000  0.000000     0.0  0.000000     0.0     0.0   \n",
              "\n",
              "          (а, ж)    (а, з)  (а, и)  ...    ( , ч)    ( , ш)  ( , щ)  ( , ъ)  \\\n",
              "(а, а)  0.000000  0.000000     0.0  ...  0.000000  0.000000     0.0     0.0   \n",
              "(а, б)  0.000000  0.000000     0.0  ...  0.000000  0.001587     0.0     0.0   \n",
              "(а, в)  0.003927  0.005102     0.0  ...  0.000306  0.000000     0.0     0.0   \n",
              "(а, г)  0.000000  0.000000     0.0  ...  0.000000  0.142857     0.0     0.0   \n",
              "(а, д)  0.000000  0.024725     0.0  ...  0.000000  0.000000     0.0     0.0   \n",
              "\n",
              "        ( , ы)  ( , ь)  ( , э)  ( , ю)  ( , я)  ( ,  )  \n",
              "(а, а)     0.0     0.0     0.0     0.0     0.0     0.0  \n",
              "(а, б)     0.0     0.0     0.0     0.0     0.0     0.0  \n",
              "(а, в)     0.0     0.0     0.0     0.0     0.0     0.0  \n",
              "(а, г)     0.0     0.0     0.0     0.0     0.0     0.0  \n",
              "(а, д)     0.0     0.0     0.0     0.0     0.0     0.0  \n",
              "\n",
              "[5 rows x 1156 columns]"
            ],
            "text/html": [
              "<div>\n",
              "<style scoped>\n",
              "    .dataframe tbody tr th:only-of-type {\n",
              "        vertical-align: middle;\n",
              "    }\n",
              "\n",
              "    .dataframe tbody tr th {\n",
              "        vertical-align: top;\n",
              "    }\n",
              "\n",
              "    .dataframe thead th {\n",
              "        text-align: right;\n",
              "    }\n",
              "</style>\n",
              "<table border=\"1\" class=\"dataframe\">\n",
              "  <thead>\n",
              "    <tr style=\"text-align: right;\">\n",
              "      <th></th>\n",
              "      <th>(а, а)</th>\n",
              "      <th>(а, б)</th>\n",
              "      <th>(а, в)</th>\n",
              "      <th>(а, г)</th>\n",
              "      <th>(а, д)</th>\n",
              "      <th>(а, е)</th>\n",
              "      <th>(а, ё)</th>\n",
              "      <th>(а, ж)</th>\n",
              "      <th>(а, з)</th>\n",
              "      <th>(а, и)</th>\n",
              "      <th>...</th>\n",
              "      <th>( , ч)</th>\n",
              "      <th>( , ш)</th>\n",
              "      <th>( , щ)</th>\n",
              "      <th>( , ъ)</th>\n",
              "      <th>( , ы)</th>\n",
              "      <th>( , ь)</th>\n",
              "      <th>( , э)</th>\n",
              "      <th>( , ю)</th>\n",
              "      <th>( , я)</th>\n",
              "      <th>( ,  )</th>\n",
              "    </tr>\n",
              "  </thead>\n",
              "  <tbody>\n",
              "    <tr>\n",
              "      <th>(а, а)</th>\n",
              "      <td>0.222222</td>\n",
              "      <td>0.000000</td>\n",
              "      <td>0.000000</td>\n",
              "      <td>0.0</td>\n",
              "      <td>0.000000</td>\n",
              "      <td>0.0</td>\n",
              "      <td>0.0</td>\n",
              "      <td>0.000000</td>\n",
              "      <td>0.000000</td>\n",
              "      <td>0.0</td>\n",
              "      <td>...</td>\n",
              "      <td>0.000000</td>\n",
              "      <td>0.000000</td>\n",
              "      <td>0.0</td>\n",
              "      <td>0.0</td>\n",
              "      <td>0.0</td>\n",
              "      <td>0.0</td>\n",
              "      <td>0.0</td>\n",
              "      <td>0.0</td>\n",
              "      <td>0.0</td>\n",
              "      <td>0.0</td>\n",
              "    </tr>\n",
              "    <tr>\n",
              "      <th>(а, б)</th>\n",
              "      <td>0.000000</td>\n",
              "      <td>0.000000</td>\n",
              "      <td>0.000000</td>\n",
              "      <td>0.0</td>\n",
              "      <td>0.000000</td>\n",
              "      <td>0.0</td>\n",
              "      <td>0.0</td>\n",
              "      <td>0.000000</td>\n",
              "      <td>0.000000</td>\n",
              "      <td>0.0</td>\n",
              "      <td>...</td>\n",
              "      <td>0.000000</td>\n",
              "      <td>0.001587</td>\n",
              "      <td>0.0</td>\n",
              "      <td>0.0</td>\n",
              "      <td>0.0</td>\n",
              "      <td>0.0</td>\n",
              "      <td>0.0</td>\n",
              "      <td>0.0</td>\n",
              "      <td>0.0</td>\n",
              "      <td>0.0</td>\n",
              "    </tr>\n",
              "    <tr>\n",
              "      <th>(а, в)</th>\n",
              "      <td>0.000000</td>\n",
              "      <td>0.033175</td>\n",
              "      <td>0.002284</td>\n",
              "      <td>0.0</td>\n",
              "      <td>0.007446</td>\n",
              "      <td>0.0</td>\n",
              "      <td>0.0</td>\n",
              "      <td>0.003927</td>\n",
              "      <td>0.005102</td>\n",
              "      <td>0.0</td>\n",
              "      <td>...</td>\n",
              "      <td>0.000306</td>\n",
              "      <td>0.000000</td>\n",
              "      <td>0.0</td>\n",
              "      <td>0.0</td>\n",
              "      <td>0.0</td>\n",
              "      <td>0.0</td>\n",
              "      <td>0.0</td>\n",
              "      <td>0.0</td>\n",
              "      <td>0.0</td>\n",
              "      <td>0.0</td>\n",
              "    </tr>\n",
              "    <tr>\n",
              "      <th>(а, г)</th>\n",
              "      <td>0.000000</td>\n",
              "      <td>0.000000</td>\n",
              "      <td>0.000000</td>\n",
              "      <td>0.0</td>\n",
              "      <td>0.000000</td>\n",
              "      <td>0.0</td>\n",
              "      <td>0.0</td>\n",
              "      <td>0.000000</td>\n",
              "      <td>0.000000</td>\n",
              "      <td>0.0</td>\n",
              "      <td>...</td>\n",
              "      <td>0.000000</td>\n",
              "      <td>0.142857</td>\n",
              "      <td>0.0</td>\n",
              "      <td>0.0</td>\n",
              "      <td>0.0</td>\n",
              "      <td>0.0</td>\n",
              "      <td>0.0</td>\n",
              "      <td>0.0</td>\n",
              "      <td>0.0</td>\n",
              "      <td>0.0</td>\n",
              "    </tr>\n",
              "    <tr>\n",
              "      <th>(а, д)</th>\n",
              "      <td>0.000000</td>\n",
              "      <td>0.000000</td>\n",
              "      <td>0.000000</td>\n",
              "      <td>0.0</td>\n",
              "      <td>0.000000</td>\n",
              "      <td>0.0</td>\n",
              "      <td>0.0</td>\n",
              "      <td>0.000000</td>\n",
              "      <td>0.024725</td>\n",
              "      <td>0.0</td>\n",
              "      <td>...</td>\n",
              "      <td>0.000000</td>\n",
              "      <td>0.000000</td>\n",
              "      <td>0.0</td>\n",
              "      <td>0.0</td>\n",
              "      <td>0.0</td>\n",
              "      <td>0.0</td>\n",
              "      <td>0.0</td>\n",
              "      <td>0.0</td>\n",
              "      <td>0.0</td>\n",
              "      <td>0.0</td>\n",
              "    </tr>\n",
              "  </tbody>\n",
              "</table>\n",
              "<p>5 rows × 1156 columns</p>\n",
              "</div>"
            ]
          },
          "metadata": {},
          "execution_count": 972
        }
      ]
    },
    {
      "cell_type": "code",
      "source": [
        "bigrams_next[bigrams_next>0].min().min()"
      ],
      "metadata": {
        "colab": {
          "base_uri": "https://localhost:8080/"
        },
        "id": "j0-KUxYyieBW",
        "outputId": "6dd9106f-796f-47f7-ebfb-11036b458f94"
      },
      "execution_count": 660,
      "outputs": [
        {
          "output_type": "execute_result",
          "data": {
            "text/plain": [
              "7.61556621734826e-05"
            ]
          },
          "metadata": {},
          "execution_count": 660
        }
      ]
    },
    {
      "cell_type": "code",
      "source": [
        "# переведем в log шкалу, нули -> EPS\n",
        "EPS = 1e-5\n",
        "bigrams_log = bigrams_next.clip(lower=EPS).apply(np.log)\n",
        "bigrams_log.head()"
      ],
      "metadata": {
        "id": "_pKIWz2ChkpO"
      },
      "execution_count": null,
      "outputs": []
    },
    {
      "cell_type": "markdown",
      "source": [
        "посмотрим на реальное правдоподобие текста про Коши"
      ],
      "metadata": {
        "id": "Ztakehw2YcIS"
      }
    },
    {
      "cell_type": "code",
      "source": [
        "true_decoding_dict = dict(zip(translation_dict.values(), translation_dict.keys()))"
      ],
      "metadata": {
        "id": "_UMV7TSGzGxi"
      },
      "execution_count": 696,
      "outputs": []
    },
    {
      "cell_type": "code",
      "source": [
        "res, like = translate_mc(test_shuffled, true_decoding_dict)\n",
        "res[:100], like"
      ],
      "metadata": {
        "colab": {
          "base_uri": "https://localhost:8080/"
        },
        "id": "p80aOStazbHi",
        "outputId": "f2ca99d2-44fe-44ba-f3bf-66d3d38780c0"
      },
      "execution_count": 675,
      "outputs": [
        {
          "output_type": "execute_result",
          "data": {
            "text/plain": [
              "('огюстен луи коши французский математик и механик член парижской академии науклондонского королевског',\n",
              " -1168.3874365498125)"
            ]
          },
          "metadata": {},
          "execution_count": 675
        }
      ]
    },
    {
      "cell_type": "code",
      "source": [
        "# перевод с текущим маппингом и подсчет правдоподобия\n",
        "def translate_mc(text, translation_dict):\n",
        "  like = 0\n",
        "  result = []\n",
        "  for i in range(0, len(text) - 4, 2):\n",
        "    curr = tuple(text[i: i + 2])\n",
        "    next = tuple(text[i + 2: i + 4])\n",
        "    curr_trans_1, curr_trans_2 = translation_dict[curr[0]], translation_dict[curr[1]]\n",
        "    result.append(curr_trans_1)\n",
        "    result.append(curr_trans_2)\n",
        "    next_trans_1, next_trans_2 = translation_dict[next[0]], translation_dict[next[1]]\n",
        "    like += bigrams_log[(curr_trans_1, curr_trans_2)][(next_trans_1, next_trans_2)]\n",
        "  result.append(next_trans_1)\n",
        "  result.append(next_trans_2)\n",
        "  return ''.join(result), like"
      ],
      "metadata": {
        "id": "RkT66QWWg9rr"
      },
      "execution_count": 974,
      "outputs": []
    },
    {
      "cell_type": "code",
      "source": [
        "freq_tab.drop(columns='rank', inplace=True)\n",
        "freq_tab"
      ],
      "metadata": {
        "id": "EK5r8F1GS7Ob"
      },
      "execution_count": null,
      "outputs": []
    },
    {
      "cell_type": "code",
      "source": [
        "# если запускать с совсем рандомного перевода, то сходимость будет только в теории, запустимся с частотным переводом из 1 пункта\n",
        "def get_init_trans_dict(text, freq_tab, abc=ABC_RU):\n",
        "  text_freq = {char: 0 for char in abc}\n",
        "  for char in text:\n",
        "    if text_freq.get(char, -1) == -1:\n",
        "      pass\n",
        "    else:\n",
        "      text_freq[char] += 1\n",
        "  text_freq_tab = pd.DataFrame(data=text_freq.items(), columns=['char', 'rank'], index=range(len(text_freq)))\n",
        "  text_freq_tab = text_freq_tab.sort_values(by='rank', ascending=False).reset_index(drop=True)\n",
        "  trans_tab = text_freq_tab.join(freq_tab, rsuffix='_war')\n",
        "  return dict(zip(trans_tab['char'], trans_tab['char_war']))"
      ],
      "metadata": {
        "id": "tU-UAPR0SgJf"
      },
      "execution_count": 821,
      "outputs": []
    },
    {
      "cell_type": "code",
      "source": [
        "mc_translation_dict = get_init_trans_dict(test_shuffled, freq_tab)"
      ],
      "metadata": {
        "id": "wxh0THYcUD94"
      },
      "execution_count": 790,
      "outputs": []
    },
    {
      "cell_type": "code",
      "source": [
        "translate_mc(test_shuffled[:50], mc_translation_dict)"
      ],
      "metadata": {
        "colab": {
          "base_uri": "https://localhost:8080/"
        },
        "id": "MsrnKfT3USQ-",
        "outputId": "17ce6b03-4a80-4bb9-83ce-a49f5ea41e36"
      },
      "execution_count": 791,
      "outputs": [
        {
          "output_type": "execute_result",
          "data": {
            "text/plain": [
              "('еущлвин кдо тежо бранэдылтоя сависавот о сиьанот', -211.9449673362715)"
            ]
          },
          "metadata": {},
          "execution_count": 791
        }
      ]
    },
    {
      "cell_type": "code",
      "source": [
        "res_init, like_init = translate_mc(test_shuffled, mc_translation_dict)"
      ],
      "metadata": {
        "id": "u2YZdBXHlDn3"
      },
      "execution_count": 771,
      "outputs": []
    },
    {
      "cell_type": "code",
      "source": [
        "# надо признать, что сходится при должном усердии и достаточном количестве перезапусков\n",
        "n_iter = 200\n",
        "prev_log_like = like_init\n",
        "i = 0\n",
        "while i < n_iter:\n",
        "  swap_1, swap_2 = random.sample(list(mc_translation_dict), 2)\n",
        "  val_1, val_2 = mc_translation_dict[swap_1], mc_translation_dict[swap_2]\n",
        "  tmp_dict = mc_translation_dict.copy()\n",
        "  tmp_dict[swap_1] = val_2\n",
        "  tmp_dict[swap_2] = val_1\n",
        "  new_res, new_log_like = translate_mc(test_shuffled, tmp_dict)\n",
        "  prob = np.exp(new_log_like - prev_log_like)\n",
        "  go_prob = random.uniform(0, 1)\n",
        "  if (prob >= 1) or (go_prob < prob):\n",
        "    i += 1\n",
        "    prev_log_like = new_log_like\n",
        "    mc_translation_dict = tmp_dict\n",
        "    del tmp_dict\n",
        "    if i % 50 == 0:\n",
        "      print(new_res[:100], new_log_like)\n"
      ],
      "metadata": {
        "colab": {
          "base_uri": "https://localhost:8080/"
        },
        "id": "fGM9fzUngkwo",
        "outputId": "9f7f3fbe-1709-4dee-b717-faebde9d5d9e"
      },
      "execution_count": 772,
      "outputs": [
        {
          "output_type": "stream",
          "name": "stdout",
          "text": [
            "ебъдлон мяи теши франьячдтий салосалит и союанит цмон варихдтей атагосии наятменгендтебе теремокдтеб -1726.58327611235\n",
            "ебёдлон муи теши француздтий валовалит и воханит пмон сариъдтей атаговии наутменгендтебе теремокдтеб -1608.6658534045675\n",
            "огюстен луи коши франжуцский математик и механик влен паричской академии науклондонского королезског -1332.0651322332865\n",
            "огюстен луи коши французский математик и механик член парижской академии науклондонского королевског -1164.019034128619\n"
          ]
        }
      ]
    },
    {
      "cell_type": "markdown",
      "source": [
        "Каренина"
      ],
      "metadata": {
        "id": "h2Rm0SsjC9vM"
      }
    },
    {
      "cell_type": "code",
      "source": [
        "res, like = translate_mc(karenina_shuf, true_decoding_dict)\n",
        "res[:100], like"
      ],
      "metadata": {
        "colab": {
          "base_uri": "https://localhost:8080/"
        },
        "id": "uKnpB-Fx87E_",
        "outputId": "bf6f73f3-1521-40af-939a-cc6ff1ab333d"
      },
      "execution_count": 709,
      "outputs": [
        {
          "output_type": "execute_result",
          "data": {
            "text/plain": [
              "('все счастливые семьи похожи друг на друга каждая несчастливая семья несчастлива посвоемувсе смешалос',\n",
              " -8140.286393290806)"
            ]
          },
          "metadata": {},
          "execution_count": 709
        }
      ]
    },
    {
      "cell_type": "code",
      "source": [
        "mc_translation_dict = get_init_trans_dict(karenina_shuf[:500], freq_tab)"
      ],
      "metadata": {
        "id": "yZ9WpSW2WUL5"
      },
      "execution_count": 777,
      "outputs": []
    },
    {
      "cell_type": "code",
      "source": [
        "translate_mc(karenina_shuf[:50], mc_translation_dict)"
      ],
      "metadata": {
        "colab": {
          "base_uri": "https://localhost:8080/"
        },
        "outputId": "63c4d50b-9347-4954-8b11-e37be28e8405",
        "id": "G1xBwibkWUL6"
      },
      "execution_count": 778,
      "outputs": [
        {
          "output_type": "execute_result",
          "data": {
            "text/plain": [
              "('сеа емнервисьа еатпи ыобоуи дякж лн дякжн знуднг', -246.89100575333046)"
            ]
          },
          "metadata": {},
          "execution_count": 778
        }
      ]
    },
    {
      "cell_type": "code",
      "source": [
        "res_init, like_init = translate_mc(karenina_shuf[:500], mc_translation_dict)"
      ],
      "metadata": {
        "id": "Z6Ep30MMWUL7"
      },
      "execution_count": 779,
      "outputs": []
    },
    {
      "cell_type": "code",
      "source": [
        "n_iter = 200\n",
        "prev_log_like = like_init\n",
        "i = 0\n",
        "while i < n_iter:\n",
        "  swap_1, swap_2 = random.sample(list(mc_translation_dict), 2)\n",
        "  val_1, val_2 = mc_translation_dict[swap_1], mc_translation_dict[swap_2]\n",
        "  tmp_dict = mc_translation_dict.copy()\n",
        "  tmp_dict[swap_1] = val_2\n",
        "  tmp_dict[swap_2] = val_1\n",
        "  new_res, new_log_like = translate_mc(karenina_shuf[:500], tmp_dict)\n",
        "  prob = np.exp(new_log_like - prev_log_like)\n",
        "  go_prob = random.uniform(0, 1)\n",
        "  if (prob >= 1) or (go_prob < prob):\n",
        "    i += 1\n",
        "    prev_log_like = new_log_like\n",
        "    mc_translation_dict = tmp_dict\n",
        "    del tmp_dict\n",
        "    if i % 50 == 0:\n",
        "      print(new_res[:100], new_log_like)\n"
      ],
      "metadata": {
        "colab": {
          "base_uri": "https://localhost:8080/"
        },
        "outputId": "bcb05e87-52bb-4b08-f5db-82f18d836d1c",
        "id": "pSyer8ZOWn8W"
      },
      "execution_count": 780,
      "outputs": [
        {
          "output_type": "stream",
          "name": "stdout",
          "text": [
            "ске кпакывисье кетни хомоли рюуб да рюуба шалрая декпакывисая кетня декпакывиса хоксоетуске ктежавок -2009.569390142656\n",
            "все счастривые сельи боюоми кпуг да кпуга намкая десчастривая селья десчастрива босвоелувсе слешарос -1545.0037636929685\n",
            "все счастливые семьи похожи друг на друга каждая несчастливая семья несчастлива посвоемувсе смешалос -969.4961810703493\n",
            "все счастливые семьи похожи друг на друга каждая несчастливая семья несчастлива посвоемувсе смешалос -969.4961810703493\n"
          ]
        }
      ]
    },
    {
      "cell_type": "markdown",
      "source": [
        "#←⇠⇒↟↹↷⇊↹↷↟↤↟↨←↹↝"
      ],
      "metadata": {
        "id": "TyjEBq4NDZv-"
      }
    },
    {
      "cell_type": "code",
      "source": [
        "message = '←⇠⇒↟↹↷⇊↹↷↟↤↟↨←↹↝⇛⇯↳⇴⇒⇈↝⇊↾↹↟⇒↟↹⇷⇛⇞↨↟↹↝⇛⇯↳⇴⇒⇈↝⇊↾↹↨←⇌⇠↨↹⇙↹⇸↨⇛↙⇛↹⇠⇛⇛↲⇆←↝↟↞↹⇌⇛↨⇛⇯⇊↾↹⇒←↙⇌⇛↹⇷⇯⇛⇞↟↨⇴↨⇈↹⇠⇌⇛⇯←←↹↷⇠←↙⇛↹↷⇊↹↷⇠←↹⇠↤←⇒⇴⇒↟↹⇷⇯⇴↷↟⇒⇈↝⇛↹↟↹⇷⇛⇒⇙⇞↟↨←↹↳⇴⇌⇠↟↳⇴⇒⇈↝⇊↾↹↲⇴⇒⇒↹⇰⇴↹⇷⇛⇠⇒←↤↝←←↹⇞←↨↷←⇯↨⇛←↹⇰⇴↤⇴↝↟←↹⇌⇙⇯⇠⇴↹↘⇛↨↞↹⇌⇛↝←⇞↝⇛↹↞↹↝↟⇞←↙⇛↹↝←↹⇛↲←⇆⇴⇏'"
      ],
      "metadata": {
        "id": "Eykq7LVODyuo"
      },
      "execution_count": 976,
      "outputs": []
    },
    {
      "cell_type": "code",
      "source": [
        "len(set(message))"
      ],
      "metadata": {
        "colab": {
          "base_uri": "https://localhost:8080/"
        },
        "id": "HfFZAV1nzQDQ",
        "outputId": "2502454b-9661-474a-daef-7d11124a5863"
      },
      "execution_count": 795,
      "outputs": [
        {
          "output_type": "execute_result",
          "data": {
            "text/plain": [
              "28"
            ]
          },
          "metadata": {},
          "execution_count": 795
        }
      ]
    },
    {
      "cell_type": "code",
      "source": [
        "ABC_MESS = list(set(message))"
      ],
      "metadata": {
        "id": "l30Ax5KqEHzG"
      },
      "execution_count": 977,
      "outputs": []
    },
    {
      "cell_type": "code",
      "source": [
        "mc_translation_dict = get_init_trans_dict(message, freq_tab, abc=ABC_MESS)"
      ],
      "metadata": {
        "id": "08dwGeG5DnAe"
      },
      "execution_count": 994,
      "outputs": []
    },
    {
      "cell_type": "code",
      "source": [
        "translate_mc(message[:100], mc_translation_dict)"
      ],
      "metadata": {
        "colab": {
          "base_uri": "https://localhost:8080/"
        },
        "outputId": "0ab0246e-1b2d-401f-ce4b-3895e5fdeb0b",
        "id": "JfeS4BHiDnAe"
      },
      "execution_count": 979,
      "outputs": [
        {
          "output_type": "execute_result",
          "data": {
            "text/plain": [
              "('алие кд кеьеса товяниутдг еие помсе товяниутдг сарлс з шсоыо лоочжатеб росовдг иаыро пвомеснсу лро',\n",
              " -463.62023812808127)"
            ]
          },
          "metadata": {},
          "execution_count": 979
        }
      ]
    },
    {
      "cell_type": "code",
      "source": [
        "res_init, like_init = translate_mc(message, mc_translation_dict)"
      ],
      "metadata": {
        "id": "nLPqJXt-DnAe"
      },
      "execution_count": 995,
      "outputs": []
    },
    {
      "cell_type": "code",
      "source": [
        "n_iter = 300\n",
        "prev_log_like = like_init\n",
        "i = 0\n",
        "while i < n_iter:\n",
        "  swap_1, swap_2 = random.sample(list(mc_translation_dict), 2)\n",
        "  val_1, val_2 = mc_translation_dict[swap_1], mc_translation_dict[swap_2]\n",
        "  tmp_dict = mc_translation_dict.copy()\n",
        "  tmp_dict[swap_1] = val_2\n",
        "  tmp_dict[swap_2] = val_1\n",
        "  new_res, new_log_like = translate_mc(message, tmp_dict)\n",
        "  prob = np.exp(new_log_like - prev_log_like)\n",
        "  go_prob = random.uniform(0, 1)\n",
        "  if (prob > 1)  or (go_prob < prob):\n",
        "    i += 1\n",
        "    prev_log_like = new_log_like\n",
        "    mc_translation_dict = tmp_dict\n",
        "    del tmp_dict\n",
        "    if i % 20 == 0:\n",
        "      print(new_res[:100], new_log_like)\n"
      ],
      "metadata": {
        "colab": {
          "base_uri": "https://localhost:8080/"
        },
        "outputId": "5e6fcd4b-cda9-4873-f9d4-fa058c67a6b4",
        "id": "vpQIdpFWDnAf"
      },
      "execution_count": 996,
      "outputs": [
        {
          "output_type": "stream",
          "name": "stdout",
          "text": [
            "алие мы мешера тойяничтых еие покре тойяничтых раслр з дрово лоогьатеб соройых иавсо пйокернрч лсойа -967.9216886639252\n",
            "акеи сы сивила ногштечных иеи побли ногштечных ламкл у злоро коожяаний мологых еармо пгобилтлч кмога -898.4371397629282\n",
            "акеи сы сижила номвтейных иеи пошли номвтейных ларкл у злодо коочбания роломых еадро пмошилтлй крома -831.3401477984313\n",
            "акси ты тивила норжесьным иси побли норжесьным лагкл у злодо коочйания голорым садго пробилель кгора -788.0549957011965\n",
            "акли сы сивида нортельным или позди нортельным дагкд у ждобо коочйания годорым лабго прозидедь кгора -710.0894924667525\n",
            "акли сы сивида ногтельным или позди ногтельным даркд ж удобо коочйания родогым лабро пгозидедь крога -708.7575207918479\n",
            "акли сы сивита нордельный или позти нордельный табкт у чтого коожмания боторый лагбо прозитеть кбора -693.1273777328361\n",
            "екли сы сидите норчальный или позти норчальный тегкт у мтово коожюения готорый левго прозитать кгоре -672.2930836334085\n",
            "если вы видите норжальный или почти норжальный текст у мтого сообюения который легко прочитать скоре -528.8449797037841\n",
            "если вы видите нормальный или почти нормальный текст у ютого сообжения который легко прочитать скоре -523.8939629424859\n",
            "если вы видите норшальный или почти норшальный текст у мтого сообжения который легко прочитать скоре -517.5259804821587\n",
            "если вы видите нормальный или почти нормальный текст у ютого сообжения который легко прочитать скоре -523.8939629424859\n",
            "если вы видите норшальным или почти норшальным текст у ютого сообжения которым легко прочитать скоре -523.4456254956419\n",
            "если вы видите норшальным или почти норшальным текст у ютого сообжения которым легко прочитать скоре -523.4456254956419\n",
            "если вы видите норшальный или почти норшальный текст у ютого сообжения который легко прочитать скоре -526.1690421844224\n"
          ]
        }
      ]
    },
    {
      "cell_type": "code",
      "source": [
        "message.translate(str.maketrans(mc_translation_dict))"
      ],
      "metadata": {
        "colab": {
          "base_uri": "https://localhost:8080/"
        },
        "id": "AM74EqCOPm35",
        "outputId": "0ff951ec-0a01-40d7-ecfa-0d245c7687b2"
      },
      "execution_count": 998,
      "outputs": [
        {
          "output_type": "execute_result",
          "data": {
            "text/plain": [
              "'если вы видите норшальный или почти норшальный текст у ютого сообжения который легко прочитать скорее всего вы все сделали правильно и получите шаксишальный балл за последнее четвертое задание курса мотя конечно я ничего не обежах'"
            ]
          },
          "metadata": {},
          "execution_count": 998
        }
      ]
    },
    {
      "cell_type": "markdown",
      "source": [
        "#MCMC на английском"
      ],
      "metadata": {
        "id": "LPkZ2c482o62"
      }
    },
    {
      "cell_type": "code",
      "source": [
        "war_eng = ''\n",
        "with open(CORPORA_PATH_ENG, 'r', encoding='utf8') as file:\n",
        "  war_eng = file.read()\n",
        "\n",
        "war_eng[:100]"
      ],
      "metadata": {
        "colab": {
          "base_uri": "https://localhost:8080/"
        },
        "outputId": "b9bec099-1745-4a51-fc8d-ebf53281b4ca",
        "id": "4YJqxpJVz32i"
      },
      "execution_count": 797,
      "outputs": [
        {
          "output_type": "execute_result",
          "data": {
            "text/plain": [
              "'\\ufeffThe Project Gutenberg EBook of War and Peace, by Leo Tolstoy\\n\\nThis eBook is for the use of anyone a'"
            ]
          },
          "metadata": {},
          "execution_count": 797
        }
      ]
    },
    {
      "cell_type": "code",
      "source": [
        "set(war.lower())"
      ],
      "metadata": {
        "id": "euwdMTEx0Ilk"
      },
      "execution_count": null,
      "outputs": []
    },
    {
      "cell_type": "code",
      "source": [
        "war = war_eng.lower().translate(str.maketrans(\"\", \"\", string.punctuation + 'àäéê1234567890' +  '\\ufeff'))\n",
        "war = war.translate(str.maketrans(\"\\n\\t\", \"  \"))\n",
        "war[:100]"
      ],
      "metadata": {
        "colab": {
          "base_uri": "https://localhost:8080/"
        },
        "outputId": "4e882c23-035c-4837-c24f-f257540e9af2",
        "id": "AD4Lhmvcz32i"
      },
      "execution_count": 802,
      "outputs": [
        {
          "output_type": "execute_result",
          "data": {
            "text/plain": [
              "'the project gutenberg ebook of war and peace by leo tolstoy  this ebook is for the use of anyone any'"
            ]
          },
          "metadata": {},
          "execution_count": 802
        }
      ]
    },
    {
      "cell_type": "code",
      "source": [
        "freq_dict = {char:0 for char in ABC_ENG} \n",
        "for char in war:\n",
        "  if freq_dict.get(char, -1) == -1:\n",
        "    pass\n",
        "  else:\n",
        "    freq_dict[char] += 1"
      ],
      "metadata": {
        "id": "d5A8GfZ-z32i"
      },
      "execution_count": 805,
      "outputs": []
    },
    {
      "cell_type": "code",
      "source": [
        "freq_tab = pd.DataFrame(data=freq_dict.items(), columns=['char', 'rank'], index=range(len(freq_dict)))\n",
        "freq_tab = freq_tab.sort_values(by='rank', ascending=False).reset_index(drop=True)\n",
        "freq_tab.drop(columns='rank', inplace=True)\n",
        "freq_tab.head()"
      ],
      "metadata": {
        "colab": {
          "base_uri": "https://localhost:8080/",
          "height": 206
        },
        "outputId": "f3dafcef-0e9b-42ed-dec8-caa9180c678e",
        "id": "lNMSRwF1z32j"
      },
      "execution_count": 806,
      "outputs": [
        {
          "output_type": "execute_result",
          "data": {
            "text/plain": [
              "  char\n",
              "0     \n",
              "1    e\n",
              "2    t\n",
              "3    a\n",
              "4    o"
            ],
            "text/html": [
              "<div>\n",
              "<style scoped>\n",
              "    .dataframe tbody tr th:only-of-type {\n",
              "        vertical-align: middle;\n",
              "    }\n",
              "\n",
              "    .dataframe tbody tr th {\n",
              "        vertical-align: top;\n",
              "    }\n",
              "\n",
              "    .dataframe thead th {\n",
              "        text-align: right;\n",
              "    }\n",
              "</style>\n",
              "<table border=\"1\" class=\"dataframe\">\n",
              "  <thead>\n",
              "    <tr style=\"text-align: right;\">\n",
              "      <th></th>\n",
              "      <th>char</th>\n",
              "    </tr>\n",
              "  </thead>\n",
              "  <tbody>\n",
              "    <tr>\n",
              "      <th>0</th>\n",
              "      <td></td>\n",
              "    </tr>\n",
              "    <tr>\n",
              "      <th>1</th>\n",
              "      <td>e</td>\n",
              "    </tr>\n",
              "    <tr>\n",
              "      <th>2</th>\n",
              "      <td>t</td>\n",
              "    </tr>\n",
              "    <tr>\n",
              "      <th>3</th>\n",
              "      <td>a</td>\n",
              "    </tr>\n",
              "    <tr>\n",
              "      <th>4</th>\n",
              "      <td>o</td>\n",
              "    </tr>\n",
              "  </tbody>\n",
              "</table>\n",
              "</div>"
            ]
          },
          "metadata": {},
          "execution_count": 806
        }
      ]
    },
    {
      "cell_type": "code",
      "source": [
        "bigrams = list(itertools.product(list(ABC_ENG), repeat=2))\n",
        "bigrams_next = pd.DataFrame(0., index=bigrams, columns=bigrams)\n",
        "for i in range(len(war) - 4):\n",
        "  curr = tuple(war[i: i + 2])\n",
        "  next = tuple(war[i + 2: i + 4])\n",
        "  if curr not in bigrams_next.index or next not in bigrams_next.columns:\n",
        "    continue\n",
        "  bigrams_next[curr][next] += 1\n",
        "bigrams_next.head()"
      ],
      "metadata": {
        "id": "fM_UNgV115aw"
      },
      "execution_count": null,
      "outputs": []
    },
    {
      "cell_type": "code",
      "source": [
        "bigrams_next[(' ', ' ')] = 0\n",
        "bigrams_next.loc[[(' ', ' ')]] = 0\n",
        "bigrams_next.tail()"
      ],
      "metadata": {
        "id": "g7SSLD7T15aw"
      },
      "execution_count": null,
      "outputs": []
    },
    {
      "cell_type": "code",
      "source": [
        "sums = bigrams_next.sum(axis=0)\n",
        "sums"
      ],
      "metadata": {
        "id": "1hz9LgVg15aw"
      },
      "execution_count": null,
      "outputs": []
    },
    {
      "cell_type": "code",
      "source": [
        "bigrams_next /= sums \n",
        "bigrams_next.fillna(0, inplace=True)\n",
        "bigrams_next.head()"
      ],
      "metadata": {
        "colab": {
          "base_uri": "https://localhost:8080/",
          "height": 236
        },
        "outputId": "c315ed0f-7200-4353-c63e-c870f0a3c58c",
        "id": "2IW8e4p915aw"
      },
      "execution_count": 810,
      "outputs": [
        {
          "output_type": "execute_result",
          "data": {
            "text/plain": [
              "          (a, a)    (a, b)    (a, c)    (a, d)  (a, e)  (a, f)    (a, g)  \\\n",
              "(a, a)  0.041667  0.000000  0.000000  0.000000     0.0     0.0  0.000000   \n",
              "(a, b)  0.000000  0.000000  0.000000  0.000178     0.0     0.0  0.000000   \n",
              "(a, c)  0.000000  0.001156  0.000000  0.000356     0.0     0.0  0.000569   \n",
              "(a, d)  0.000000  0.000000  0.000285  0.000089     0.0     0.0  0.000000   \n",
              "(a, e)  0.000000  0.000000  0.000000  0.000000     0.0     0.0  0.000000   \n",
              "\n",
              "        (a, h)  (a, i)  (a, j)  ...    ( , r)    ( , s)    ( , t)  ( , u)  \\\n",
              "(a, a)     0.0     0.0     0.0  ...  0.000000  0.000000  0.000000     0.0   \n",
              "(a, b)     0.0     0.0     0.0  ...  0.000396  0.001790  0.002787     0.0   \n",
              "(a, c)     0.0     0.0     0.0  ...  0.001718  0.002501  0.000503     0.0   \n",
              "(a, d)     0.0     0.0     0.0  ...  0.002313  0.004218  0.000000     0.0   \n",
              "(a, e)     0.0     0.0     0.0  ...  0.001454  0.000000  0.000000     0.0   \n",
              "\n",
              "          ( , v)    ( , w)  ( , x)  ( , y)  ( , z)  ( ,  )  \n",
              "(a, a)  0.000000  0.000000     0.0     0.0     0.0     0.0  \n",
              "(a, b)  0.000000  0.000000     0.0     0.0     0.0     0.0  \n",
              "(a, c)  0.003539  0.000000     0.0     0.0     0.0     0.0  \n",
              "(a, d)  0.000000  0.000172     0.0     0.0     0.0     0.0  \n",
              "(a, e)  0.000000  0.000000     0.0     0.0     0.0     0.0  \n",
              "\n",
              "[5 rows x 729 columns]"
            ],
            "text/html": [
              "<div>\n",
              "<style scoped>\n",
              "    .dataframe tbody tr th:only-of-type {\n",
              "        vertical-align: middle;\n",
              "    }\n",
              "\n",
              "    .dataframe tbody tr th {\n",
              "        vertical-align: top;\n",
              "    }\n",
              "\n",
              "    .dataframe thead th {\n",
              "        text-align: right;\n",
              "    }\n",
              "</style>\n",
              "<table border=\"1\" class=\"dataframe\">\n",
              "  <thead>\n",
              "    <tr style=\"text-align: right;\">\n",
              "      <th></th>\n",
              "      <th>(a, a)</th>\n",
              "      <th>(a, b)</th>\n",
              "      <th>(a, c)</th>\n",
              "      <th>(a, d)</th>\n",
              "      <th>(a, e)</th>\n",
              "      <th>(a, f)</th>\n",
              "      <th>(a, g)</th>\n",
              "      <th>(a, h)</th>\n",
              "      <th>(a, i)</th>\n",
              "      <th>(a, j)</th>\n",
              "      <th>...</th>\n",
              "      <th>( , r)</th>\n",
              "      <th>( , s)</th>\n",
              "      <th>( , t)</th>\n",
              "      <th>( , u)</th>\n",
              "      <th>( , v)</th>\n",
              "      <th>( , w)</th>\n",
              "      <th>( , x)</th>\n",
              "      <th>( , y)</th>\n",
              "      <th>( , z)</th>\n",
              "      <th>( ,  )</th>\n",
              "    </tr>\n",
              "  </thead>\n",
              "  <tbody>\n",
              "    <tr>\n",
              "      <th>(a, a)</th>\n",
              "      <td>0.041667</td>\n",
              "      <td>0.000000</td>\n",
              "      <td>0.000000</td>\n",
              "      <td>0.000000</td>\n",
              "      <td>0.0</td>\n",
              "      <td>0.0</td>\n",
              "      <td>0.000000</td>\n",
              "      <td>0.0</td>\n",
              "      <td>0.0</td>\n",
              "      <td>0.0</td>\n",
              "      <td>...</td>\n",
              "      <td>0.000000</td>\n",
              "      <td>0.000000</td>\n",
              "      <td>0.000000</td>\n",
              "      <td>0.0</td>\n",
              "      <td>0.000000</td>\n",
              "      <td>0.000000</td>\n",
              "      <td>0.0</td>\n",
              "      <td>0.0</td>\n",
              "      <td>0.0</td>\n",
              "      <td>0.0</td>\n",
              "    </tr>\n",
              "    <tr>\n",
              "      <th>(a, b)</th>\n",
              "      <td>0.000000</td>\n",
              "      <td>0.000000</td>\n",
              "      <td>0.000000</td>\n",
              "      <td>0.000178</td>\n",
              "      <td>0.0</td>\n",
              "      <td>0.0</td>\n",
              "      <td>0.000000</td>\n",
              "      <td>0.0</td>\n",
              "      <td>0.0</td>\n",
              "      <td>0.0</td>\n",
              "      <td>...</td>\n",
              "      <td>0.000396</td>\n",
              "      <td>0.001790</td>\n",
              "      <td>0.002787</td>\n",
              "      <td>0.0</td>\n",
              "      <td>0.000000</td>\n",
              "      <td>0.000000</td>\n",
              "      <td>0.0</td>\n",
              "      <td>0.0</td>\n",
              "      <td>0.0</td>\n",
              "      <td>0.0</td>\n",
              "    </tr>\n",
              "    <tr>\n",
              "      <th>(a, c)</th>\n",
              "      <td>0.000000</td>\n",
              "      <td>0.001156</td>\n",
              "      <td>0.000000</td>\n",
              "      <td>0.000356</td>\n",
              "      <td>0.0</td>\n",
              "      <td>0.0</td>\n",
              "      <td>0.000569</td>\n",
              "      <td>0.0</td>\n",
              "      <td>0.0</td>\n",
              "      <td>0.0</td>\n",
              "      <td>...</td>\n",
              "      <td>0.001718</td>\n",
              "      <td>0.002501</td>\n",
              "      <td>0.000503</td>\n",
              "      <td>0.0</td>\n",
              "      <td>0.003539</td>\n",
              "      <td>0.000000</td>\n",
              "      <td>0.0</td>\n",
              "      <td>0.0</td>\n",
              "      <td>0.0</td>\n",
              "      <td>0.0</td>\n",
              "    </tr>\n",
              "    <tr>\n",
              "      <th>(a, d)</th>\n",
              "      <td>0.000000</td>\n",
              "      <td>0.000000</td>\n",
              "      <td>0.000285</td>\n",
              "      <td>0.000089</td>\n",
              "      <td>0.0</td>\n",
              "      <td>0.0</td>\n",
              "      <td>0.000000</td>\n",
              "      <td>0.0</td>\n",
              "      <td>0.0</td>\n",
              "      <td>0.0</td>\n",
              "      <td>...</td>\n",
              "      <td>0.002313</td>\n",
              "      <td>0.004218</td>\n",
              "      <td>0.000000</td>\n",
              "      <td>0.0</td>\n",
              "      <td>0.000000</td>\n",
              "      <td>0.000172</td>\n",
              "      <td>0.0</td>\n",
              "      <td>0.0</td>\n",
              "      <td>0.0</td>\n",
              "      <td>0.0</td>\n",
              "    </tr>\n",
              "    <tr>\n",
              "      <th>(a, e)</th>\n",
              "      <td>0.000000</td>\n",
              "      <td>0.000000</td>\n",
              "      <td>0.000000</td>\n",
              "      <td>0.000000</td>\n",
              "      <td>0.0</td>\n",
              "      <td>0.0</td>\n",
              "      <td>0.000000</td>\n",
              "      <td>0.0</td>\n",
              "      <td>0.0</td>\n",
              "      <td>0.0</td>\n",
              "      <td>...</td>\n",
              "      <td>0.001454</td>\n",
              "      <td>0.000000</td>\n",
              "      <td>0.000000</td>\n",
              "      <td>0.0</td>\n",
              "      <td>0.000000</td>\n",
              "      <td>0.000000</td>\n",
              "      <td>0.0</td>\n",
              "      <td>0.0</td>\n",
              "      <td>0.0</td>\n",
              "      <td>0.0</td>\n",
              "    </tr>\n",
              "  </tbody>\n",
              "</table>\n",
              "<p>5 rows × 729 columns</p>\n",
              "</div>"
            ]
          },
          "metadata": {},
          "execution_count": 810
        }
      ]
    },
    {
      "cell_type": "code",
      "source": [
        "bigrams_next[bigrams_next>0].min().min()"
      ],
      "metadata": {
        "colab": {
          "base_uri": "https://localhost:8080/"
        },
        "outputId": "c23be91a-bc4e-44d0-886b-08298903fb88",
        "id": "NEfB-eT515ax"
      },
      "execution_count": 811,
      "outputs": [
        {
          "output_type": "execute_result",
          "data": {
            "text/plain": [
              "9.01014542374714e-06"
            ]
          },
          "metadata": {},
          "execution_count": 811
        }
      ]
    },
    {
      "cell_type": "code",
      "source": [
        "EPS = 1e-6\n",
        "bigrams_log = bigrams_next.clip(lower=EPS).apply(np.log)\n",
        "bigrams_log.head()"
      ],
      "metadata": {
        "id": "eVcW0WXV15ax"
      },
      "execution_count": null,
      "outputs": []
    },
    {
      "cell_type": "code",
      "source": [
        "test_text = \"Choose Life. Choose a job. Choose a career. Choose a family. Choose a fucking big television, choose washing machines,\\\n",
        " cars, compact disc players and electrical tin openers. Choose good health, low cholesterol, and dental insurance. Choose fixed\\\n",
        "  interest mortgage repayments. Choose a starter home. Choose your friends. Choose leisurewear and matching luggage.\\\n",
        "   Choose a three-piece suit on hire purchase in a range of fucking fabrics. Choose DIY and wondering who the fuck you are on Sunday morning.\\\n",
        "    Choose sitting on that couch watching mind-numbing, spirit-crushing game shows, stuffing fucking junk food into your mouth. \\\n",
        "    Choose rotting away at the end of it all, pissing your last in a miserable home, nothing more than an embarrassment to the selfish,\\\n",
        "     fucked up brats you spawned to replace yourselves. Choose your future. Choose life... But why would I want to do a thing like that?\\\n",
        "      I chose not to choose life. I chose somethin' else. And the reasons? There are no reasons.\\\n",
        "       Who needs reasons when you've got heroin?\".lower().translate(str.maketrans(\"\", \"\", string.punctuation))"
      ],
      "metadata": {
        "id": "jjyCtbdx5I1B"
      },
      "execution_count": 904,
      "outputs": []
    },
    {
      "cell_type": "code",
      "source": [
        "test_text = ' '.join(test_text.split())"
      ],
      "metadata": {
        "id": "iHQq-1yQ5cmu"
      },
      "execution_count": 905,
      "outputs": []
    },
    {
      "cell_type": "code",
      "source": [
        "translation_dict = dict(zip(ABC_ENG, ''.join(random.sample(ABC_ENG, len(ABC_ENG)))))"
      ],
      "metadata": {
        "id": "1Ay_ASMh5cmu"
      },
      "execution_count": 921,
      "outputs": []
    },
    {
      "cell_type": "code",
      "source": [
        "test_shuffled = test_text.translate(str.maketrans(translation_dict))"
      ],
      "metadata": {
        "id": "o4PmoJBh5cmv"
      },
      "execution_count": 922,
      "outputs": []
    },
    {
      "cell_type": "code",
      "source": [
        "test_shuffled[:50]"
      ],
      "metadata": {
        "colab": {
          "base_uri": "https://localhost:8080/"
        },
        "outputId": "385ea86c-d03a-4434-cbe8-558c67e1a2b9",
        "id": "SdfznN295cmv"
      },
      "execution_count": 923,
      "outputs": [
        {
          "output_type": "execute_result",
          "data": {
            "text/plain": [
              "'e aahvqcxbvqe aahvqzqsauqe aahvqzqezjvvjqe aahvqzq'"
            ]
          },
          "metadata": {},
          "execution_count": 923
        }
      ]
    },
    {
      "cell_type": "code",
      "source": [
        "true_decoding_dict = dict(zip(translation_dict.values(), translation_dict.keys()))"
      ],
      "metadata": {
        "id": "JdKIGqIK55cl"
      },
      "execution_count": 924,
      "outputs": []
    },
    {
      "cell_type": "code",
      "source": [
        "res, like = translate_mc(test_shuffled, true_decoding_dict)\n",
        "res[:100], like"
      ],
      "metadata": {
        "colab": {
          "base_uri": "https://localhost:8080/"
        },
        "outputId": "9b344968-7bd5-445f-dcb2-c802c5319332",
        "id": "sLd5Jn5e55cl"
      },
      "execution_count": 925,
      "outputs": [
        {
          "output_type": "execute_result",
          "data": {
            "text/plain": [
              "('choose life choose a job choose a career choose a family choose a fucking big television choose wash',\n",
              " -2039.450029532397)"
            ]
          },
          "metadata": {},
          "execution_count": 925
        }
      ]
    },
    {
      "cell_type": "code",
      "source": [
        "mc_translation_dict = get_init_trans_dict(test_shuffled, freq_tab, abc=ABC_ENG)"
      ],
      "metadata": {
        "id": "YnfdS5Cu6Ww6"
      },
      "execution_count": 942,
      "outputs": []
    },
    {
      "cell_type": "code",
      "source": [
        "translate_mc(test_shuffled[:100], mc_translation_dict)"
      ],
      "metadata": {
        "colab": {
          "base_uri": "https://localhost:8080/"
        },
        "outputId": "1d3098bc-b2a2-4521-84ce-591e5443f025",
        "id": "VtxT3kc26Ww6"
      },
      "execution_count": 943,
      "outputs": [
        {
          "output_type": "execute_result",
          "data": {
            "text/plain": [
              "('dhttae miwe dhttae n xtb dhttae n dnreer dhttae n wnfimg dhttae n wldviou biu semekiaito dhttae yn',\n",
              " -591.7748950128469)"
            ]
          },
          "metadata": {},
          "execution_count": 943
        }
      ]
    },
    {
      "cell_type": "code",
      "source": [
        "res_init, like_init = translate_mc(test_shuffled, mc_translation_dict)"
      ],
      "metadata": {
        "id": "WI2lv2m66Ww6"
      },
      "execution_count": 944,
      "outputs": []
    },
    {
      "cell_type": "code",
      "source": [
        "n_iter = 100\n",
        "prev_log_like = like_init\n",
        "i = 0\n",
        "while i < n_iter:\n",
        "  swap_1, swap_2 = random.sample(list(mc_translation_dict), 2)\n",
        "  val_1, val_2 = mc_translation_dict[swap_1], mc_translation_dict[swap_2]\n",
        "  tmp_dict = mc_translation_dict.copy()\n",
        "  tmp_dict[swap_1] = val_2\n",
        "  tmp_dict[swap_2] = val_1\n",
        "  new_res, new_log_like = translate_mc(test_shuffled, tmp_dict)\n",
        "  prob = np.exp(new_log_like - prev_log_like)\n",
        "  go_prob = random.uniform(0, 1)\n",
        "  if (prob > 1)  or (go_prob < prob):\n",
        "    i += 1\n",
        "    prev_log_like = new_log_like\n",
        "    mc_translation_dict = tmp_dict\n",
        "    del tmp_dict\n",
        "    if i % 20 == 0:\n",
        "      print(new_res[:100], new_log_like)\n"
      ],
      "metadata": {
        "colab": {
          "base_uri": "https://localhost:8080/"
        },
        "outputId": "2f0c69b3-3dfa-422b-c4ed-03ef47ce5bcb",
        "id": "Fcr97KmV6Ww6"
      },
      "execution_count": 945,
      "outputs": [
        {
          "output_type": "stream",
          "name": "stdout",
          "text": [
            "gthhse lome gthhse a qhb gthhse a gareer gthhse a mawolc gthhse a mugvoin bon yelekosohi gthhse fast -4400.985330222464\n",
            "thoose life thoose a qob thoose a tareer thoose a familc thoose a futyink bik gelevision thoose wash -2901.468621649859\n",
            "choose life choose a job choose a career choose a family choose a fucking big television choose wash -2039.450029532397\n",
            "choose life choose a job choose a career choose a family choose a fucking big television choose wash -2039.450029532397\n",
            "choose life choose a job choose a career choose a family choose a fucking big television choose wash -2039.450029532397\n"
          ]
        }
      ]
    }
  ]
}