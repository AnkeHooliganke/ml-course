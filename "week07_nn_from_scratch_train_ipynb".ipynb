{
  "nbformat": 4,
  "nbformat_minor": 0,
  "metadata": {
    "colab": {
      "name": "Копия блокнота \"week07_nn_from_scratch--train.ipynb\"",
      "provenance": [],
      "collapsed_sections": [],
      "include_colab_link": true
    },
    "kernelspec": {
      "display_name": "Python 3",
      "language": "python",
      "name": "python3"
    },
    "language_info": {
      "codemirror_mode": {
        "name": "ipython",
        "version": 3
      },
      "file_extension": ".py",
      "mimetype": "text/x-python",
      "name": "python",
      "nbconvert_exporter": "python",
      "pygments_lexer": "ipython3",
      "version": "3.7.3"
    }
  },
  "cells": [
    {
      "cell_type": "markdown",
      "metadata": {
        "id": "view-in-github",
        "colab_type": "text"
      },
      "source": [
        "<a href=\"https://colab.research.google.com/github/AnkeHooliganke/ml-course/blob/main/%22week07_nn_from_scratch_train_ipynb%22.ipynb\" target=\"_parent\"><img src=\"https://colab.research.google.com/assets/colab-badge.svg\" alt=\"Open In Colab\"/></a>"
      ]
    },
    {
      "cell_type": "markdown",
      "metadata": {
        "id": "8OM9YH_w6yXD"
      },
      "source": [
        "# Neural network from scratch.\n",
        "\n",
        "Based on YSDA Deep Learning course materials.\n",
        "\n",
        "https://github.com/yandexdataschool/Practical_DL/blob/spring2019/homework01/homework_modules.ipynb"
      ]
    },
    {
      "cell_type": "markdown",
      "metadata": {
        "id": "QkOjLyq46yXK"
      },
      "source": [
        "We will implement most common layers using `numpy` for matrix operations. \n",
        "\n",
        "The file `modules.py` contains the abstract classes for **module**, **criterion** and **sequential** model class.\n",
        "\n",
        "**Module** is an abstract class which defines the fundamental methods required for training a neural network.\n",
        "\n",
        "**Criterion** class implements a container which can be used to score the models answers. \n",
        "\n",
        "**Sequential** class implements a container which processes `input` data sequentially. \n"
      ]
    },
    {
      "cell_type": "markdown",
      "metadata": {
        "id": "8c5OjyPn6yXK"
      },
      "source": [
        "#### Tips and tricks\n",
        "Original `numpy` operation are preferable to the overloaded ones (`+`, `*`, `-`, etc. vs `np.add`, `np.multiply`, `np.substract`). They are less prone to excess memory usage and seem unified with tensor frameworks.\n",
        "\n",
        "*Example:*\n",
        "\n",
        "```\n",
        "a = np.zeros_like(arr1)\n",
        "\n",
        "a = arr1 + arr2 #  bad, we reallocate memory for the result of + operation\n",
        "\n",
        "a = np.zeros_like(arr1)\n",
        "\n",
        "np.add(arr1, arr2, out=a) #  good, we use same allocated memory, no need to call gc\n",
        "```\n",
        "\n",
        "But I won't follow that advice ;)"
      ]
    },
    {
      "cell_type": "code",
      "metadata": {
        "id": "-cNJXFsp6yXL"
      },
      "source": [
        "%matplotlib inline\n",
        "from time import time, sleep\n",
        "import numpy as np\n",
        "import matplotlib.pyplot as plt\n",
        "from IPython import display\n"
      ],
      "execution_count": 2,
      "outputs": []
    },
    {
      "cell_type": "code",
      "metadata": {
        "colab": {
          "base_uri": "https://localhost:8080/"
        },
        "id": "jY5f8KaAdlTx",
        "outputId": "d70c3c92-2bcd-46b3-a9d7-6365eb0f1419"
      },
      "source": [
        "! wget https://raw.githubusercontent.com/girafe-ai/ml-mipt/21f_made/week0_07_intro_to_dl/modules.py\n",
        "\n",
        "from modules import Module, Sequential, Criterion"
      ],
      "execution_count": 3,
      "outputs": [
        {
          "output_type": "stream",
          "name": "stdout",
          "text": [
            "--2021-11-30 09:46:14--  https://raw.githubusercontent.com/girafe-ai/ml-mipt/21f_made/week0_07_intro_to_dl/modules.py\n",
            "Resolving raw.githubusercontent.com (raw.githubusercontent.com)... 185.199.108.133, 185.199.109.133, 185.199.110.133, ...\n",
            "Connecting to raw.githubusercontent.com (raw.githubusercontent.com)|185.199.108.133|:443... connected.\n",
            "HTTP request sent, awaiting response... 200 OK\n",
            "Length: 7989 (7.8K) [text/plain]\n",
            "Saving to: ‘modules.py.1’\n",
            "\n",
            "modules.py.1        100%[===================>]   7.80K  --.-KB/s    in 0s      \n",
            "\n",
            "2021-11-30 09:46:14 (81.7 MB/s) - ‘modules.py.1’ saved [7989/7989]\n",
            "\n"
          ]
        }
      ]
    },
    {
      "cell_type": "markdown",
      "metadata": {
        "id": "f2shlktH6yXL"
      },
      "source": [
        "## Impelementing main layers\n",
        "\n",
        "\n",
        "Let's try to implement some layers in numpy. \n",
        "Today we are going to discuss only the most common ones.\n",
        "\n",
        "https://en.wikipedia.org/wiki/Matrix_calculus\n",
        "\n"
      ]
    },
    {
      "cell_type": "markdown",
      "metadata": {
        "id": "yaLmLd-7Wfs8"
      },
      "source": [
        "[Post about einsum](https://habr.com/ru/post/544498/)"
      ]
    },
    {
      "cell_type": "markdown",
      "metadata": {
        "id": "D5FB1rBB6yXM"
      },
      "source": [
        "### 1. Linear transform layer\n",
        "Also known as dense layer, fully-connected layer, FC-layer, InnerProductLayer (in caffe), affine transform\n",
        "- input:   **`batch_size x n_in`**\n",
        "- output  **`batch_size x n_out`**"
      ]
    },
    {
      "cell_type": "markdown",
      "metadata": {
        "id": "f4Abm9jleWzI"
      },
      "source": [
        "[Backpropagation for a Linear Layer handout](http://cs231n.stanford.edu/handouts/linear-backprop.pdf)"
      ]
    },
    {
      "cell_type": "code",
      "metadata": {
        "id": "w1K9RnIq6yXM"
      },
      "source": [
        "class Linear(Module):\n",
        "    \"\"\"\n",
        "    A module which applies a linear transformation \n",
        "    A common name is fully-connected layer, InnerProductLayer in caffe. \n",
        "    \n",
        "    The module should work with 2D input of shape (n_samples, n_feature).\n",
        "    \"\"\"\n",
        "    def __init__(self, n_in, n_out):\n",
        "        super(Linear, self).__init__()\n",
        "       \n",
        "        # This is a nice initialization\n",
        "        stdv = 1./np.sqrt(n_in)\n",
        "        self.W = np.random.uniform(-stdv, stdv, size = (n_in, n_out))\n",
        "        self.b = np.random.uniform(-stdv, stdv, size = n_out)\n",
        "        \n",
        "        self.gradW = np.zeros_like(self.W)\n",
        "        self.gradb = np.zeros_like(self.b)\n",
        "        \n",
        "    def updateOutput(self, input):\n",
        "        ################################################\n",
        "        # your code here \n",
        "        self.output = input @ self.W  + self.b\n",
        "        ################################################\n",
        "        return self.output\n",
        "    \n",
        "    def updateGradInput(self, input, gradOutput):\n",
        "        ################################################\n",
        "        # your code here \n",
        "        self.gradInput = gradOutput @ self.W.T\n",
        "        ################################################\n",
        "        return self.gradInput\n",
        "    \n",
        "    def accGradParameters(self, input, gradOutput):\n",
        "        ################################################\n",
        "        # your code here \n",
        "        self.gradW += input.T @ gradOutput\n",
        "        self.gradb += gradOutput.sum(axis=0)\n",
        "        ################################################\n",
        "            \n",
        "    def zeroGradParameters(self):\n",
        "        self.gradW.fill(0)\n",
        "        self.gradb.fill(0)\n",
        "        \n",
        "    def getParameters(self):\n",
        "        return [self.W, self.b]\n",
        "    \n",
        "    def getGradParameters(self):\n",
        "        return [self.gradW, self.gradb]\n",
        "    \n",
        "    def __repr__(self):\n",
        "        s = self.W.shape\n",
        "        q = 'Linear %d -> %d' %(s[1],s[0])\n",
        "        return q"
      ],
      "execution_count": 4,
      "outputs": []
    },
    {
      "cell_type": "markdown",
      "metadata": {
        "id": "7RVaSCBkfC8d"
      },
      "source": [
        "### 2. SoftMax\n",
        "- input:   **`batch_size x n_feats`**\n",
        "- output: **`batch_size x n_feats`**\n",
        "\n",
        "$\\text{softmax}(x)_i = \\frac{\\exp x_i} {\\sum_j \\exp x_j}$\n",
        "\n",
        "Recall that $\\text{softmax}(x) == \\text{softmax}(x - \\text{const})$. It makes possible to avoid computing exp() from large argument.\n",
        "\n",
        "[Notes on softmax](https://deepnotes.io/softmax-crossentropy)"
      ]
    },
    {
      "cell_type": "code",
      "metadata": {
        "colab": {
          "base_uri": "https://localhost:8080/"
        },
        "id": "QGAnihczLe09",
        "outputId": "73cce915-59c0-42b4-ebdc-1dda8a8db631"
      },
      "source": [
        "res = np.zeros((p.shape[0], p.shape[1], p.shape[1]))\n",
        "for b in range(p.shape[0]):\n",
        "  for j in range(p.shape[1]):\n",
        "    for i in range(p.shape[1]):\n",
        "      # print(b, i, j)\n",
        "      # print( p[b, i], diag[i][j])\n",
        "      res[b, i, j] = p[b, i]*diag[i][j]\n",
        "      # print(res[b, i, j])\n",
        "res"
      ],
      "execution_count": 23,
      "outputs": [
        {
          "output_type": "execute_result",
          "data": {
            "text/plain": [
              "array([[[0. , 0. ],\n",
              "        [0. , 1. ]],\n",
              "\n",
              "       [[0.4, 0. ],\n",
              "        [0. , 0.6]]])"
            ]
          },
          "metadata": {},
          "execution_count": 23
        }
      ]
    },
    {
      "cell_type": "code",
      "metadata": {
        "colab": {
          "base_uri": "https://localhost:8080/"
        },
        "id": "l3KjSov8E2j_",
        "outputId": "77afdc9e-8d57-4e8e-9cf0-15f8b185ddbc"
      },
      "source": [
        "grad =  pdiag - outer2\n",
        "gradInput = np.einsum('bi,bij->bj', output, grad)\n",
        "gradInput"
      ],
      "execution_count": 37,
      "outputs": [
        {
          "output_type": "execute_result",
          "data": {
            "text/plain": [
              "array([[ 0.   ,  0.   ],\n",
              "       [-0.048,  0.048]])"
            ]
          },
          "metadata": {},
          "execution_count": 37
        }
      ]
    },
    {
      "cell_type": "code",
      "metadata": {
        "id": "-kih1-sC6yXN"
      },
      "source": [
        "class SoftMax(Module):\n",
        "    def __init__(self):\n",
        "         super(SoftMax, self).__init__()\n",
        "    \n",
        "    def updateOutput(self, input):\n",
        "        ################################################\n",
        "        # start with normalization for numerical stability\n",
        "        # your code here \n",
        "        input -= np.max(input)\n",
        "        expinp = np.exp(input)\n",
        "        self.output = expinp / (np.tile(np.einsum('ji->j', expinp, optimize=True).reshape(input.shape[0], 1), input.shape[1]))\n",
        "        ################################################\n",
        "        return self.output\n",
        "    \n",
        "    def updateGradInput(self, input, gradOutput):\n",
        "        ################################################\n",
        "        # First we create for each example feature vector, it's outer product with itself \n",
        "        # ( p1^2  p1*p2  p1*p3 .... )\n",
        "        # ( p2*p1 p2^2   p2*p3 .... )\n",
        "        # ( ...                     )\n",
        "        # your code here \n",
        "        p = self.output\n",
        "        outerp = np.einsum(\"bi,bj->bij\", p, p) #(batch_size x n_feats x n_feats)\n",
        "        # Second we need to create an (n_feats, n_feats) identity of the feature vector\n",
        "        # ( p1  0  0  ...  )\n",
        "        # ( 0   p2 0  ...  )\n",
        "        # ( ...            )\n",
        "        # your code here \n",
        "        diag = np.eye(input.shape[1])\n",
        "        pdiag = np.einsum('bi,ij->bij', p, diag) # (batch_size x n_feats x n_feats)\n",
        "        # Then we need to subtract the first tensor from the second\n",
        "        # ( p1 - p1^2   -p1*p2   -p1*p3  ... )\n",
        "        # ( -p1*p2     p2 - p2^2   -p2*p3 ...)\n",
        "        # ( ...                              )\n",
        "        # your code here \n",
        "        grad =  pdiag - outerp\n",
        "        self.gradInput = np.einsum('bi,bij->bj', gradOutput, grad)\n",
        "        ################################################\n",
        "        return self.gradInput\n",
        "    \n",
        "    def __repr__(self):\n",
        "        return \"SoftMax\""
      ],
      "execution_count": 15,
      "outputs": []
    },
    {
      "cell_type": "markdown",
      "metadata": {
        "id": "sgo9jxXQPGRh"
      },
      "source": [
        "### 3. Negative LogLikelihood criterion (numerically unstable)\n",
        "[multiclass log loss](http://scikit-learn.org/stable/modules/model_evaluation.html#log-loss). Remember that targets are one-hot encoded. Note, that criterions are the only places, where you divide by batch size. Also there is a small hack with adding small number to probabilities to avoid computing log(0).\n",
        "- input:   **`batch_size x n_feats`** - probabilities\n",
        "- target: **`batch_size x n_feats`** - one-hot representation of ground truth\n",
        "- output: **scalar**## \n",
        "\n"
      ]
    },
    {
      "cell_type": "code",
      "metadata": {
        "id": "Ma_X5zSGXWKb"
      },
      "source": [
        "class ClassNLLCriterionUnstable(Criterion):\n",
        "    EPS = 1e-15\n",
        "    def __init__(self):\n",
        "        a = super(ClassNLLCriterionUnstable, self)\n",
        "        super(ClassNLLCriterionUnstable, self).__init__()\n",
        "        \n",
        "    def updateOutput(self, input, target):   \n",
        "        ################################################\n",
        "        # Use clipping trick to avoid numerical errors\n",
        "        # your code here \n",
        "        input = np.clip(input, self.EPS, 1-self.EPS)\n",
        "        self.output = -1 / input.shape[0] * np.einsum('ik,ik->', target, np.log(input)) \n",
        "        ################################################\n",
        "        return self.output\n",
        "\n",
        "    def updateGradInput(self, input, target):\n",
        "        ################################################\n",
        "        # Use clipping trick to avoid numerical errors\n",
        "        # your code here \n",
        "        input = np.clip(input, self.EPS, 1-self.EPS)\n",
        "        self.gradInput =  - target/((input + self.EPS)) / input.shape[0]\n",
        "        ################################################\n",
        "        return self.gradInput\n",
        "    \n",
        "    def __repr__(self):\n",
        "        return \"ClassNLLCriterionUnstable\""
      ],
      "execution_count": 16,
      "outputs": []
    },
    {
      "cell_type": "code",
      "metadata": {
        "id": "dUvohjyp6yXP"
      },
      "source": [
        "def simple_sgd(variables, gradients, config, state):  \n",
        "    # 'variables' and 'gradients' have complex structure, accumulated_grads will be stored in a simpler one\n",
        "    state.setdefault('accumulated_grads', {})\n",
        "    \n",
        "    var_index = 0 \n",
        "    for current_layer_vars, current_layer_grads in zip(variables, gradients): \n",
        "        for current_var, current_grad in zip(current_layer_vars, current_layer_grads):\n",
        "            \n",
        "            current_var -= config['learning_rate'] * current_grad\n",
        "            var_index += 1     "
      ],
      "execution_count": 17,
      "outputs": []
    },
    {
      "cell_type": "markdown",
      "metadata": {
        "id": "h2TE4a3-6yXP"
      },
      "source": [
        "## Toy training example"
      ]
    },
    {
      "cell_type": "markdown",
      "metadata": {
        "id": "9ewrE7tb6yXP"
      },
      "source": [
        "Use this example to debug your code, just logistic regression. You do not need to change anything here. This code is provided for you to test the layers. "
      ]
    },
    {
      "cell_type": "code",
      "metadata": {
        "colab": {
          "base_uri": "https://localhost:8080/",
          "height": 283
        },
        "id": "JlD2ypxA6yXP",
        "scrolled": false,
        "outputId": "308ed324-3b55-4c24-bacd-00160daa172a"
      },
      "source": [
        "# Generate some data\n",
        "N = 500\n",
        "\n",
        "X1 = np.random.randn(N,2) + np.array([2,2])\n",
        "X2 = np.random.randn(N,2) + np.array([-2,-2])\n",
        "\n",
        "Y = np.concatenate([np.ones(N),np.zeros(N)])[:,None]\n",
        "Y = np.hstack([Y, 1-Y])\n",
        "\n",
        "X = np.vstack([X1,X2])\n",
        "plt.scatter(X[:,0],X[:,1], c = Y[:,0], edgecolors= 'none')"
      ],
      "execution_count": 18,
      "outputs": [
        {
          "output_type": "execute_result",
          "data": {
            "text/plain": [
              "<matplotlib.collections.PathCollection at 0x7efc7a974810>"
            ]
          },
          "metadata": {},
          "execution_count": 18
        },
        {
          "output_type": "display_data",
          "data": {
            "image/png": "[encoded data removed]",
            "text/plain": [
              "<Figure size 432x288 with 1 Axes>"
            ]
          },
          "metadata": {
            "needs_background": "light"
          }
        }
      ]
    },
    {
      "cell_type": "markdown",
      "metadata": {
        "id": "6YA59tRe6yXQ"
      },
      "source": [
        "Define a **logistic regression** for debugging. "
      ]
    },
    {
      "cell_type": "code",
      "metadata": {
        "colab": {
          "base_uri": "https://localhost:8080/"
        },
        "id": "wBkFEbVA6yXR",
        "outputId": "f68548fd-8650-442d-9ac9-0ceeebafe086"
      },
      "source": [
        "net = Sequential()\n",
        "net.add(Linear(2, 4))\n",
        "net.add(Linear(4, 16))\n",
        "net.add(Linear(16, 2))\n",
        "\n",
        "net.add(SoftMax())\n",
        "criterion = ClassNLLCriterionUnstable()\n",
        "\n",
        "print(net)"
      ],
      "execution_count": 26,
      "outputs": [
        {
          "output_type": "stream",
          "name": "stdout",
          "text": [
            "Linear 4 -> 2\n",
            "Linear 16 -> 4\n",
            "Linear 2 -> 16\n",
            "SoftMax\n",
            "\n"
          ]
        }
      ]
    },
    {
      "cell_type": "markdown",
      "metadata": {
        "id": "8TmMYZrF6yXR"
      },
      "source": [
        "Start with batch_size = 1000 to make sure every step lowers the loss, then try stochastic version."
      ]
    },
    {
      "cell_type": "code",
      "metadata": {
        "id": "_eG4lPvr6yXR"
      },
      "source": [
        "# Iptimizer params\n",
        "optimizer_config = {'learning_rate' : 1e-1}\n",
        "optimizer_state = {}\n",
        "\n",
        "# Looping params\n",
        "n_epoch = 20\n",
        "batch_size = 128"
      ],
      "execution_count": 20,
      "outputs": []
    },
    {
      "cell_type": "code",
      "metadata": {
        "id": "0wfDdxLc6yXR"
      },
      "source": [
        "# batch generator\n",
        "def get_batches(dataset, batch_size):\n",
        "    X, Y = dataset\n",
        "    n_samples = X.shape[0]\n",
        "        \n",
        "    # Shuffle at the start of epoch\n",
        "    indices = np.arange(n_samples)\n",
        "    np.random.shuffle(indices)\n",
        "    \n",
        "    for start in range(0, n_samples, batch_size):\n",
        "        end = min(start + batch_size, n_samples)\n",
        "        \n",
        "        batch_idx = indices[start:end]\n",
        "    \n",
        "        yield X[batch_idx], Y[batch_idx]"
      ],
      "execution_count": 21,
      "outputs": []
    },
    {
      "cell_type": "markdown",
      "metadata": {
        "id": "z_ro0Qqd6yXS"
      },
      "source": [
        "### Train"
      ]
    },
    {
      "cell_type": "markdown",
      "metadata": {
        "id": "7kjj3f5Q6yXS"
      },
      "source": [
        "Basic training loop. Examine it."
      ]
    },
    {
      "cell_type": "code",
      "metadata": {
        "colab": {
          "base_uri": "https://localhost:8080/",
          "height": 422
        },
        "id": "uHr99fks6yXS",
        "scrolled": false,
        "outputId": "791dc9b0-fd53-45ea-b947-2e2ef1449ea8"
      },
      "source": [
        "loss_history = []\n",
        "\n",
        "for i in range(n_epoch):\n",
        "    for x_batch, y_batch in get_batches((X, Y), batch_size):\n",
        "        \n",
        "        net.zeroGradParameters()\n",
        "        \n",
        "        # Forward\n",
        "        predictions = net.forward(x_batch)\n",
        "        loss = criterion.forward(predictions, y_batch)\n",
        "    \n",
        "        # Backward\n",
        "        dp = criterion.backward(predictions, y_batch)\n",
        "        net.backward(x_batch, dp)\n",
        "        \n",
        "        # Update weights\n",
        "        simple_sgd(net.getParameters(), \n",
        "                   net.getGradParameters(), \n",
        "                   optimizer_config,\n",
        "                   optimizer_state)      \n",
        "        \n",
        "        loss_history.append(loss)\n",
        "\n",
        "    # Visualize\n",
        "    display.clear_output(wait=True)\n",
        "    plt.figure(figsize=(8, 6))\n",
        "        \n",
        "    plt.title(\"Training loss\")\n",
        "    plt.xlabel(\"#iteration\")\n",
        "    plt.ylabel(\"loss\")\n",
        "    plt.plot(loss_history, 'b')\n",
        "    plt.show()\n",
        "    \n",
        "    print('Current loss: %f' % loss)    "
      ],
      "execution_count": 27,
      "outputs": [
        {
          "output_type": "display_data",
          "data": {
            "image/png": "[encoded data removed]",
            "text/plain": [
              "<Figure size 576x432 with 1 Axes>"
            ]
          },
          "metadata": {
            "needs_background": "light"
          }
        },
        {
          "output_type": "stream",
          "name": "stdout",
          "text": [
            "Current loss: 0.004040\n"
          ]
        }
      ]
    },
    {
      "cell_type": "code",
      "metadata": {
        "id": "fmxeCq0tdUmE"
      },
      "source": [
        "from torch import nn\n"
      ],
      "execution_count": 28,
      "outputs": []
    },
    {
      "cell_type": "code",
      "metadata": {
        "colab": {
          "base_uri": "https://localhost:8080/"
        },
        "id": "HVt9biTHdWqy",
        "outputId": "51145773-c526-4a04-fd96-38960abb2353"
      },
      "source": [
        "nn.__dir__()"
      ],
      "execution_count": 29,
      "outputs": [
        {
          "output_type": "execute_result",
          "data": {
            "text/plain": [
              "['__name__',\n",
              " '__doc__',\n",
              " '__package__',\n",
              " '__loader__',\n",
              " '__spec__',\n",
              " '__path__',\n",
              " '__file__',\n",
              " '__cached__',\n",
              " '__builtins__',\n",
              " 'parameter',\n",
              " '_reduction',\n",
              " 'grad',\n",
              " 'functional',\n",
              " 'init',\n",
              " 'common_types',\n",
              " 'utils',\n",
              " 'modules',\n",
              " 'Module',\n",
              " 'Identity',\n",
              " 'Linear',\n",
              " 'Conv1d',\n",
              " 'Conv2d',\n",
              " 'Conv3d',\n",
              " 'ConvTranspose1d',\n",
              " 'ConvTranspose2d',\n",
              " 'ConvTranspose3d',\n",
              " 'Threshold',\n",
              " 'ReLU',\n",
              " 'Hardtanh',\n",
              " 'ReLU6',\n",
              " 'Sigmoid',\n",
              " 'Tanh',\n",
              " 'Softmax',\n",
              " 'Softmax2d',\n",
              " 'LogSoftmax',\n",
              " 'ELU',\n",
              " 'SELU',\n",
              " 'CELU',\n",
              " 'GLU',\n",
              " 'GELU',\n",
              " 'Hardshrink',\n",
              " 'LeakyReLU',\n",
              " 'LogSigmoid',\n",
              " 'Softplus',\n",
              " 'Softshrink',\n",
              " 'MultiheadAttention',\n",
              " 'PReLU',\n",
              " 'Softsign',\n",
              " 'Softmin',\n",
              " 'Tanhshrink',\n",
              " 'RReLU',\n",
              " 'L1Loss',\n",
              " 'NLLLoss',\n",
              " 'KLDivLoss',\n",
              " 'MSELoss',\n",
              " 'BCELoss',\n",
              " 'BCEWithLogitsLoss',\n",
              " 'NLLLoss2d',\n",
              " 'PoissonNLLLoss',\n",
              " 'CosineEmbeddingLoss',\n",
              " 'CTCLoss',\n",
              " 'HingeEmbeddingLoss',\n",
              " 'MarginRankingLoss',\n",
              " 'MultiLabelMarginLoss',\n",
              " 'MultiLabelSoftMarginLoss',\n",
              " 'MultiMarginLoss',\n",
              " 'SmoothL1Loss',\n",
              " 'GaussianNLLLoss',\n",
              " 'HuberLoss',\n",
              " 'SoftMarginLoss',\n",
              " 'CrossEntropyLoss',\n",
              " 'Container',\n",
              " 'Sequential',\n",
              " 'ModuleList',\n",
              " 'ModuleDict',\n",
              " 'ParameterList',\n",
              " 'ParameterDict',\n",
              " 'AvgPool1d',\n",
              " 'AvgPool2d',\n",
              " 'AvgPool3d',\n",
              " 'MaxPool1d',\n",
              " 'MaxPool2d',\n",
              " 'MaxPool3d',\n",
              " 'MaxUnpool1d',\n",
              " 'MaxUnpool2d',\n",
              " 'MaxUnpool3d',\n",
              " 'FractionalMaxPool2d',\n",
              " 'FractionalMaxPool3d',\n",
              " 'LPPool1d',\n",
              " 'LPPool2d',\n",
              " 'LocalResponseNorm',\n",
              " 'BatchNorm1d',\n",
              " 'BatchNorm2d',\n",
              " 'BatchNorm3d',\n",
              " 'InstanceNorm1d',\n",
              " 'InstanceNorm2d',\n",
              " 'InstanceNorm3d',\n",
              " 'LayerNorm',\n",
              " 'GroupNorm',\n",
              " 'SyncBatchNorm',\n",
              " 'Dropout',\n",
              " 'Dropout2d',\n",
              " 'Dropout3d',\n",
              " 'AlphaDropout',\n",
              " 'FeatureAlphaDropout',\n",
              " 'ReflectionPad1d',\n",
              " 'ReflectionPad2d',\n",
              " 'ReflectionPad3d',\n",
              " 'ReplicationPad2d',\n",
              " 'ReplicationPad1d',\n",
              " 'ReplicationPad3d',\n",
              " 'CrossMapLRN2d',\n",
              " 'Embedding',\n",
              " 'EmbeddingBag',\n",
              " 'RNNBase',\n",
              " 'RNN',\n",
              " 'LSTM',\n",
              " 'GRU',\n",
              " 'RNNCellBase',\n",
              " 'RNNCell',\n",
              " 'LSTMCell',\n",
              " 'GRUCell',\n",
              " 'PixelShuffle',\n",
              " 'PixelUnshuffle',\n",
              " 'Upsample',\n",
              " 'UpsamplingNearest2d',\n",
              " 'UpsamplingBilinear2d',\n",
              " 'PairwiseDistance',\n",
              " 'AdaptiveMaxPool1d',\n",
              " 'AdaptiveMaxPool2d',\n",
              " 'AdaptiveMaxPool3d',\n",
              " 'AdaptiveAvgPool1d',\n",
              " 'AdaptiveAvgPool2d',\n",
              " 'AdaptiveAvgPool3d',\n",
              " 'TripletMarginLoss',\n",
              " 'ZeroPad2d',\n",
              " 'ConstantPad1d',\n",
              " 'ConstantPad2d',\n",
              " 'ConstantPad3d',\n",
              " 'Bilinear',\n",
              " 'CosineSimilarity',\n",
              " 'Unfold',\n",
              " 'Fold',\n",
              " 'AdaptiveLogSoftmaxWithLoss',\n",
              " 'TransformerEncoder',\n",
              " 'TransformerDecoder',\n",
              " 'TransformerEncoderLayer',\n",
              " 'TransformerDecoderLayer',\n",
              " 'Transformer',\n",
              " 'LazyLinear',\n",
              " 'LazyConv1d',\n",
              " 'LazyConv2d',\n",
              " 'LazyConv3d',\n",
              " 'LazyConvTranspose1d',\n",
              " 'LazyConvTranspose2d',\n",
              " 'LazyConvTranspose3d',\n",
              " 'LazyBatchNorm1d',\n",
              " 'LazyBatchNorm2d',\n",
              " 'LazyBatchNorm3d',\n",
              " 'LazyInstanceNorm1d',\n",
              " 'LazyInstanceNorm2d',\n",
              " 'LazyInstanceNorm3d',\n",
              " 'Flatten',\n",
              " 'Unflatten',\n",
              " 'Hardsigmoid',\n",
              " 'Hardswish',\n",
              " 'SiLU',\n",
              " 'Mish',\n",
              " 'TripletMarginWithDistanceLoss',\n",
              " 'ChannelShuffle',\n",
              " 'Parameter',\n",
              " 'UninitializedParameter',\n",
              " 'UninitializedBuffer',\n",
              " 'parallel',\n",
              " 'DataParallel',\n",
              " 'factory_kwargs',\n",
              " 'intrinsic',\n",
              " 'qat',\n",
              " 'quantized',\n",
              " 'quantizable']"
            ]
          },
          "metadata": {},
          "execution_count": 29
        }
      ]
    }
  ]
}